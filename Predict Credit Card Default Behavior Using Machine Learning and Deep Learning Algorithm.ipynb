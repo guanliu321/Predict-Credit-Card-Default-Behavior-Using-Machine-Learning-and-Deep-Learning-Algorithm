{
 "cells": [
  {
   "cell_type": "markdown",
   "metadata": {
    "collapsed": true
   },
   "source": [
    "# First explore the data before training machine learning algorithm"
   ]
  },
  {
   "cell_type": "code",
   "execution_count": 1,
   "metadata": {},
   "outputs": [],
   "source": [
    "import pandas as pd\n",
    "import numpy as np"
   ]
  },
  {
   "cell_type": "code",
   "execution_count": 2,
   "metadata": {},
   "outputs": [],
   "source": [
    "Credit=pd.read_csv(r\"C:\\Users\\pruthvi\\Desktop\\15_Credit_risk_modelling\\PK\\default_of_credit_card_clients.csv\")"
   ]
  },
  {
   "cell_type": "markdown",
   "metadata": {
    "collapsed": true
   },
   "source": [
    "## Data distribution"
   ]
  },
  {
   "cell_type": "code",
   "execution_count": 3,
   "metadata": {
    "scrolled": true
   },
   "outputs": [
    {
     "data": {
      "text/html": [
       "<div>\n",
       "<style scoped>\n",
       "    .dataframe tbody tr th:only-of-type {\n",
       "        vertical-align: middle;\n",
       "    }\n",
       "\n",
       "    .dataframe tbody tr th {\n",
       "        vertical-align: top;\n",
       "    }\n",
       "\n",
       "    .dataframe thead th {\n",
       "        text-align: right;\n",
       "    }\n",
       "</style>\n",
       "<table border=\"1\" class=\"dataframe\">\n",
       "  <thead>\n",
       "    <tr style=\"text-align: right;\">\n",
       "      <th></th>\n",
       "      <th>ID</th>\n",
       "      <th>Credit_limit</th>\n",
       "      <th>Gender</th>\n",
       "      <th>Education</th>\n",
       "      <th>Marital_status</th>\n",
       "      <th>Age_in_years</th>\n",
       "      <th>Payment_status_in_Sep2005</th>\n",
       "      <th>Payment_status_in_Aug2005</th>\n",
       "      <th>Payment_status_in_July2005</th>\n",
       "      <th>Payment_status_in_June2005</th>\n",
       "      <th>...</th>\n",
       "      <th>Bill_stat_in_June2005</th>\n",
       "      <th>Bill_stat_in_May2005</th>\n",
       "      <th>Bill_stat_in_Apr2005</th>\n",
       "      <th>Amount_paid_inSep2005</th>\n",
       "      <th>Amount_paid_inAug2005</th>\n",
       "      <th>Amount_paid_inJuly2005</th>\n",
       "      <th>Amount_paid_inJune2005</th>\n",
       "      <th>Amount_paid_inMay2005</th>\n",
       "      <th>Amount_paid_inApril2005</th>\n",
       "      <th>default payment next month</th>\n",
       "    </tr>\n",
       "  </thead>\n",
       "  <tbody>\n",
       "    <tr>\n",
       "      <th>0</th>\n",
       "      <td>1</td>\n",
       "      <td>20000</td>\n",
       "      <td>2</td>\n",
       "      <td>2</td>\n",
       "      <td>1</td>\n",
       "      <td>24</td>\n",
       "      <td>2</td>\n",
       "      <td>2</td>\n",
       "      <td>-1</td>\n",
       "      <td>-1</td>\n",
       "      <td>...</td>\n",
       "      <td>0</td>\n",
       "      <td>0</td>\n",
       "      <td>0</td>\n",
       "      <td>0</td>\n",
       "      <td>689</td>\n",
       "      <td>0</td>\n",
       "      <td>0</td>\n",
       "      <td>0</td>\n",
       "      <td>0</td>\n",
       "      <td>1</td>\n",
       "    </tr>\n",
       "    <tr>\n",
       "      <th>1</th>\n",
       "      <td>2</td>\n",
       "      <td>120000</td>\n",
       "      <td>2</td>\n",
       "      <td>2</td>\n",
       "      <td>2</td>\n",
       "      <td>26</td>\n",
       "      <td>-1</td>\n",
       "      <td>2</td>\n",
       "      <td>0</td>\n",
       "      <td>0</td>\n",
       "      <td>...</td>\n",
       "      <td>3272</td>\n",
       "      <td>3455</td>\n",
       "      <td>3261</td>\n",
       "      <td>0</td>\n",
       "      <td>1000</td>\n",
       "      <td>1000</td>\n",
       "      <td>1000</td>\n",
       "      <td>0</td>\n",
       "      <td>2000</td>\n",
       "      <td>1</td>\n",
       "    </tr>\n",
       "    <tr>\n",
       "      <th>2</th>\n",
       "      <td>3</td>\n",
       "      <td>90000</td>\n",
       "      <td>2</td>\n",
       "      <td>2</td>\n",
       "      <td>2</td>\n",
       "      <td>34</td>\n",
       "      <td>0</td>\n",
       "      <td>0</td>\n",
       "      <td>0</td>\n",
       "      <td>0</td>\n",
       "      <td>...</td>\n",
       "      <td>14331</td>\n",
       "      <td>14948</td>\n",
       "      <td>15549</td>\n",
       "      <td>1518</td>\n",
       "      <td>1500</td>\n",
       "      <td>1000</td>\n",
       "      <td>1000</td>\n",
       "      <td>1000</td>\n",
       "      <td>5000</td>\n",
       "      <td>0</td>\n",
       "    </tr>\n",
       "    <tr>\n",
       "      <th>3</th>\n",
       "      <td>4</td>\n",
       "      <td>50000</td>\n",
       "      <td>2</td>\n",
       "      <td>2</td>\n",
       "      <td>1</td>\n",
       "      <td>37</td>\n",
       "      <td>0</td>\n",
       "      <td>0</td>\n",
       "      <td>0</td>\n",
       "      <td>0</td>\n",
       "      <td>...</td>\n",
       "      <td>28314</td>\n",
       "      <td>28959</td>\n",
       "      <td>29547</td>\n",
       "      <td>2000</td>\n",
       "      <td>2019</td>\n",
       "      <td>1200</td>\n",
       "      <td>1100</td>\n",
       "      <td>1069</td>\n",
       "      <td>1000</td>\n",
       "      <td>0</td>\n",
       "    </tr>\n",
       "    <tr>\n",
       "      <th>4</th>\n",
       "      <td>5</td>\n",
       "      <td>50000</td>\n",
       "      <td>1</td>\n",
       "      <td>2</td>\n",
       "      <td>1</td>\n",
       "      <td>57</td>\n",
       "      <td>-1</td>\n",
       "      <td>0</td>\n",
       "      <td>-1</td>\n",
       "      <td>0</td>\n",
       "      <td>...</td>\n",
       "      <td>20940</td>\n",
       "      <td>19146</td>\n",
       "      <td>19131</td>\n",
       "      <td>2000</td>\n",
       "      <td>36681</td>\n",
       "      <td>10000</td>\n",
       "      <td>9000</td>\n",
       "      <td>689</td>\n",
       "      <td>679</td>\n",
       "      <td>0</td>\n",
       "    </tr>\n",
       "  </tbody>\n",
       "</table>\n",
       "<p>5 rows × 25 columns</p>\n",
       "</div>"
      ],
      "text/plain": [
       "   ID  Credit_limit  Gender  Education  Marital_status  Age_in_years  \\\n",
       "0   1         20000       2          2               1            24   \n",
       "1   2        120000       2          2               2            26   \n",
       "2   3         90000       2          2               2            34   \n",
       "3   4         50000       2          2               1            37   \n",
       "4   5         50000       1          2               1            57   \n",
       "\n",
       "   Payment_status_in_Sep2005  Payment_status_in_Aug2005  \\\n",
       "0                          2                          2   \n",
       "1                         -1                          2   \n",
       "2                          0                          0   \n",
       "3                          0                          0   \n",
       "4                         -1                          0   \n",
       "\n",
       "   Payment_status_in_July2005  Payment_status_in_June2005  \\\n",
       "0                          -1                          -1   \n",
       "1                           0                           0   \n",
       "2                           0                           0   \n",
       "3                           0                           0   \n",
       "4                          -1                           0   \n",
       "\n",
       "              ...              Bill_stat_in_June2005  Bill_stat_in_May2005  \\\n",
       "0             ...                                  0                     0   \n",
       "1             ...                               3272                  3455   \n",
       "2             ...                              14331                 14948   \n",
       "3             ...                              28314                 28959   \n",
       "4             ...                              20940                 19146   \n",
       "\n",
       "   Bill_stat_in_Apr2005  Amount_paid_inSep2005  Amount_paid_inAug2005  \\\n",
       "0                     0                      0                    689   \n",
       "1                  3261                      0                   1000   \n",
       "2                 15549                   1518                   1500   \n",
       "3                 29547                   2000                   2019   \n",
       "4                 19131                   2000                  36681   \n",
       "\n",
       "   Amount_paid_inJuly2005  Amount_paid_inJune2005  Amount_paid_inMay2005  \\\n",
       "0                       0                       0                      0   \n",
       "1                    1000                    1000                      0   \n",
       "2                    1000                    1000                   1000   \n",
       "3                    1200                    1100                   1069   \n",
       "4                   10000                    9000                    689   \n",
       "\n",
       "   Amount_paid_inApril2005  default payment next month  \n",
       "0                        0                           1  \n",
       "1                     2000                           1  \n",
       "2                     5000                           0  \n",
       "3                     1000                           0  \n",
       "4                      679                           0  \n",
       "\n",
       "[5 rows x 25 columns]"
      ]
     },
     "execution_count": 3,
     "metadata": {},
     "output_type": "execute_result"
    }
   ],
   "source": [
    "Credit.head(5)"
   ]
  },
  {
   "cell_type": "code",
   "execution_count": 4,
   "metadata": {},
   "outputs": [
    {
     "data": {
      "text/html": [
       "<div>\n",
       "<style scoped>\n",
       "    .dataframe tbody tr th:only-of-type {\n",
       "        vertical-align: middle;\n",
       "    }\n",
       "\n",
       "    .dataframe tbody tr th {\n",
       "        vertical-align: top;\n",
       "    }\n",
       "\n",
       "    .dataframe thead th {\n",
       "        text-align: right;\n",
       "    }\n",
       "</style>\n",
       "<table border=\"1\" class=\"dataframe\">\n",
       "  <thead>\n",
       "    <tr style=\"text-align: right;\">\n",
       "      <th></th>\n",
       "      <th>count</th>\n",
       "      <th>mean</th>\n",
       "      <th>std</th>\n",
       "      <th>min</th>\n",
       "      <th>25%</th>\n",
       "      <th>50%</th>\n",
       "      <th>75%</th>\n",
       "      <th>max</th>\n",
       "    </tr>\n",
       "  </thead>\n",
       "  <tbody>\n",
       "    <tr>\n",
       "      <th>ID</th>\n",
       "      <td>30000.0</td>\n",
       "      <td>15000.500000</td>\n",
       "      <td>8660.398374</td>\n",
       "      <td>1.0</td>\n",
       "      <td>7500.75</td>\n",
       "      <td>15000.5</td>\n",
       "      <td>22500.25</td>\n",
       "      <td>30000.0</td>\n",
       "    </tr>\n",
       "    <tr>\n",
       "      <th>Credit_limit</th>\n",
       "      <td>30000.0</td>\n",
       "      <td>167484.322667</td>\n",
       "      <td>129747.661567</td>\n",
       "      <td>10000.0</td>\n",
       "      <td>50000.00</td>\n",
       "      <td>140000.0</td>\n",
       "      <td>240000.00</td>\n",
       "      <td>1000000.0</td>\n",
       "    </tr>\n",
       "    <tr>\n",
       "      <th>Gender</th>\n",
       "      <td>30000.0</td>\n",
       "      <td>1.603733</td>\n",
       "      <td>0.489129</td>\n",
       "      <td>1.0</td>\n",
       "      <td>1.00</td>\n",
       "      <td>2.0</td>\n",
       "      <td>2.00</td>\n",
       "      <td>2.0</td>\n",
       "    </tr>\n",
       "    <tr>\n",
       "      <th>Education</th>\n",
       "      <td>30000.0</td>\n",
       "      <td>1.853133</td>\n",
       "      <td>0.790349</td>\n",
       "      <td>0.0</td>\n",
       "      <td>1.00</td>\n",
       "      <td>2.0</td>\n",
       "      <td>2.00</td>\n",
       "      <td>6.0</td>\n",
       "    </tr>\n",
       "    <tr>\n",
       "      <th>Marital_status</th>\n",
       "      <td>30000.0</td>\n",
       "      <td>1.551867</td>\n",
       "      <td>0.521970</td>\n",
       "      <td>0.0</td>\n",
       "      <td>1.00</td>\n",
       "      <td>2.0</td>\n",
       "      <td>2.00</td>\n",
       "      <td>3.0</td>\n",
       "    </tr>\n",
       "    <tr>\n",
       "      <th>Age_in_years</th>\n",
       "      <td>30000.0</td>\n",
       "      <td>35.485500</td>\n",
       "      <td>9.217904</td>\n",
       "      <td>21.0</td>\n",
       "      <td>28.00</td>\n",
       "      <td>34.0</td>\n",
       "      <td>41.00</td>\n",
       "      <td>79.0</td>\n",
       "    </tr>\n",
       "    <tr>\n",
       "      <th>Payment_status_in_Sep2005</th>\n",
       "      <td>30000.0</td>\n",
       "      <td>-0.016700</td>\n",
       "      <td>1.123802</td>\n",
       "      <td>-2.0</td>\n",
       "      <td>-1.00</td>\n",
       "      <td>0.0</td>\n",
       "      <td>0.00</td>\n",
       "      <td>8.0</td>\n",
       "    </tr>\n",
       "    <tr>\n",
       "      <th>Payment_status_in_Aug2005</th>\n",
       "      <td>30000.0</td>\n",
       "      <td>-0.133767</td>\n",
       "      <td>1.197186</td>\n",
       "      <td>-2.0</td>\n",
       "      <td>-1.00</td>\n",
       "      <td>0.0</td>\n",
       "      <td>0.00</td>\n",
       "      <td>8.0</td>\n",
       "    </tr>\n",
       "    <tr>\n",
       "      <th>Payment_status_in_July2005</th>\n",
       "      <td>30000.0</td>\n",
       "      <td>-0.166200</td>\n",
       "      <td>1.196868</td>\n",
       "      <td>-2.0</td>\n",
       "      <td>-1.00</td>\n",
       "      <td>0.0</td>\n",
       "      <td>0.00</td>\n",
       "      <td>8.0</td>\n",
       "    </tr>\n",
       "    <tr>\n",
       "      <th>Payment_status_in_June2005</th>\n",
       "      <td>30000.0</td>\n",
       "      <td>-0.220667</td>\n",
       "      <td>1.169139</td>\n",
       "      <td>-2.0</td>\n",
       "      <td>-1.00</td>\n",
       "      <td>0.0</td>\n",
       "      <td>0.00</td>\n",
       "      <td>8.0</td>\n",
       "    </tr>\n",
       "    <tr>\n",
       "      <th>Payment_status_in_May2005</th>\n",
       "      <td>30000.0</td>\n",
       "      <td>-0.266200</td>\n",
       "      <td>1.133187</td>\n",
       "      <td>-2.0</td>\n",
       "      <td>-1.00</td>\n",
       "      <td>0.0</td>\n",
       "      <td>0.00</td>\n",
       "      <td>8.0</td>\n",
       "    </tr>\n",
       "    <tr>\n",
       "      <th>Payment_status_in_April2005</th>\n",
       "      <td>30000.0</td>\n",
       "      <td>-0.291100</td>\n",
       "      <td>1.149988</td>\n",
       "      <td>-2.0</td>\n",
       "      <td>-1.00</td>\n",
       "      <td>0.0</td>\n",
       "      <td>0.00</td>\n",
       "      <td>8.0</td>\n",
       "    </tr>\n",
       "    <tr>\n",
       "      <th>Bill_stat_in_Sep2005</th>\n",
       "      <td>30000.0</td>\n",
       "      <td>51223.330900</td>\n",
       "      <td>73635.860576</td>\n",
       "      <td>-165580.0</td>\n",
       "      <td>3558.75</td>\n",
       "      <td>22381.5</td>\n",
       "      <td>67091.00</td>\n",
       "      <td>964511.0</td>\n",
       "    </tr>\n",
       "    <tr>\n",
       "      <th>Bill_stat_in_Aug2005</th>\n",
       "      <td>30000.0</td>\n",
       "      <td>49179.075167</td>\n",
       "      <td>71173.768783</td>\n",
       "      <td>-69777.0</td>\n",
       "      <td>2984.75</td>\n",
       "      <td>21200.0</td>\n",
       "      <td>64006.25</td>\n",
       "      <td>983931.0</td>\n",
       "    </tr>\n",
       "    <tr>\n",
       "      <th>Bill_stat_in_July2005</th>\n",
       "      <td>30000.0</td>\n",
       "      <td>47013.154800</td>\n",
       "      <td>69349.387427</td>\n",
       "      <td>-157264.0</td>\n",
       "      <td>2666.25</td>\n",
       "      <td>20088.5</td>\n",
       "      <td>60164.75</td>\n",
       "      <td>1664089.0</td>\n",
       "    </tr>\n",
       "    <tr>\n",
       "      <th>Bill_stat_in_June2005</th>\n",
       "      <td>30000.0</td>\n",
       "      <td>43262.948967</td>\n",
       "      <td>64332.856134</td>\n",
       "      <td>-170000.0</td>\n",
       "      <td>2326.75</td>\n",
       "      <td>19052.0</td>\n",
       "      <td>54506.00</td>\n",
       "      <td>891586.0</td>\n",
       "    </tr>\n",
       "    <tr>\n",
       "      <th>Bill_stat_in_May2005</th>\n",
       "      <td>30000.0</td>\n",
       "      <td>40311.400967</td>\n",
       "      <td>60797.155770</td>\n",
       "      <td>-81334.0</td>\n",
       "      <td>1763.00</td>\n",
       "      <td>18104.5</td>\n",
       "      <td>50190.50</td>\n",
       "      <td>927171.0</td>\n",
       "    </tr>\n",
       "    <tr>\n",
       "      <th>Bill_stat_in_Apr2005</th>\n",
       "      <td>30000.0</td>\n",
       "      <td>38871.760400</td>\n",
       "      <td>59554.107537</td>\n",
       "      <td>-339603.0</td>\n",
       "      <td>1256.00</td>\n",
       "      <td>17071.0</td>\n",
       "      <td>49198.25</td>\n",
       "      <td>961664.0</td>\n",
       "    </tr>\n",
       "    <tr>\n",
       "      <th>Amount_paid_inSep2005</th>\n",
       "      <td>30000.0</td>\n",
       "      <td>5663.580500</td>\n",
       "      <td>16563.280354</td>\n",
       "      <td>0.0</td>\n",
       "      <td>1000.00</td>\n",
       "      <td>2100.0</td>\n",
       "      <td>5006.00</td>\n",
       "      <td>873552.0</td>\n",
       "    </tr>\n",
       "    <tr>\n",
       "      <th>Amount_paid_inAug2005</th>\n",
       "      <td>30000.0</td>\n",
       "      <td>5921.163500</td>\n",
       "      <td>23040.870402</td>\n",
       "      <td>0.0</td>\n",
       "      <td>833.00</td>\n",
       "      <td>2009.0</td>\n",
       "      <td>5000.00</td>\n",
       "      <td>1684259.0</td>\n",
       "    </tr>\n",
       "    <tr>\n",
       "      <th>Amount_paid_inJuly2005</th>\n",
       "      <td>30000.0</td>\n",
       "      <td>5225.681500</td>\n",
       "      <td>17606.961470</td>\n",
       "      <td>0.0</td>\n",
       "      <td>390.00</td>\n",
       "      <td>1800.0</td>\n",
       "      <td>4505.00</td>\n",
       "      <td>896040.0</td>\n",
       "    </tr>\n",
       "    <tr>\n",
       "      <th>Amount_paid_inJune2005</th>\n",
       "      <td>30000.0</td>\n",
       "      <td>4826.076867</td>\n",
       "      <td>15666.159744</td>\n",
       "      <td>0.0</td>\n",
       "      <td>296.00</td>\n",
       "      <td>1500.0</td>\n",
       "      <td>4013.25</td>\n",
       "      <td>621000.0</td>\n",
       "    </tr>\n",
       "    <tr>\n",
       "      <th>Amount_paid_inMay2005</th>\n",
       "      <td>30000.0</td>\n",
       "      <td>4799.387633</td>\n",
       "      <td>15278.305679</td>\n",
       "      <td>0.0</td>\n",
       "      <td>252.50</td>\n",
       "      <td>1500.0</td>\n",
       "      <td>4031.50</td>\n",
       "      <td>426529.0</td>\n",
       "    </tr>\n",
       "    <tr>\n",
       "      <th>Amount_paid_inApril2005</th>\n",
       "      <td>30000.0</td>\n",
       "      <td>5215.502567</td>\n",
       "      <td>17777.465775</td>\n",
       "      <td>0.0</td>\n",
       "      <td>117.75</td>\n",
       "      <td>1500.0</td>\n",
       "      <td>4000.00</td>\n",
       "      <td>528666.0</td>\n",
       "    </tr>\n",
       "    <tr>\n",
       "      <th>default payment next month</th>\n",
       "      <td>30000.0</td>\n",
       "      <td>0.221200</td>\n",
       "      <td>0.415062</td>\n",
       "      <td>0.0</td>\n",
       "      <td>0.00</td>\n",
       "      <td>0.0</td>\n",
       "      <td>0.00</td>\n",
       "      <td>1.0</td>\n",
       "    </tr>\n",
       "  </tbody>\n",
       "</table>\n",
       "</div>"
      ],
      "text/plain": [
       "                               count           mean            std       min  \\\n",
       "ID                           30000.0   15000.500000    8660.398374       1.0   \n",
       "Credit_limit                 30000.0  167484.322667  129747.661567   10000.0   \n",
       "Gender                       30000.0       1.603733       0.489129       1.0   \n",
       "Education                    30000.0       1.853133       0.790349       0.0   \n",
       "Marital_status               30000.0       1.551867       0.521970       0.0   \n",
       "Age_in_years                 30000.0      35.485500       9.217904      21.0   \n",
       "Payment_status_in_Sep2005    30000.0      -0.016700       1.123802      -2.0   \n",
       "Payment_status_in_Aug2005    30000.0      -0.133767       1.197186      -2.0   \n",
       "Payment_status_in_July2005   30000.0      -0.166200       1.196868      -2.0   \n",
       "Payment_status_in_June2005   30000.0      -0.220667       1.169139      -2.0   \n",
       "Payment_status_in_May2005    30000.0      -0.266200       1.133187      -2.0   \n",
       "Payment_status_in_April2005  30000.0      -0.291100       1.149988      -2.0   \n",
       "Bill_stat_in_Sep2005         30000.0   51223.330900   73635.860576 -165580.0   \n",
       "Bill_stat_in_Aug2005         30000.0   49179.075167   71173.768783  -69777.0   \n",
       "Bill_stat_in_July2005        30000.0   47013.154800   69349.387427 -157264.0   \n",
       "Bill_stat_in_June2005        30000.0   43262.948967   64332.856134 -170000.0   \n",
       "Bill_stat_in_May2005         30000.0   40311.400967   60797.155770  -81334.0   \n",
       "Bill_stat_in_Apr2005         30000.0   38871.760400   59554.107537 -339603.0   \n",
       "Amount_paid_inSep2005        30000.0    5663.580500   16563.280354       0.0   \n",
       "Amount_paid_inAug2005        30000.0    5921.163500   23040.870402       0.0   \n",
       "Amount_paid_inJuly2005       30000.0    5225.681500   17606.961470       0.0   \n",
       "Amount_paid_inJune2005       30000.0    4826.076867   15666.159744       0.0   \n",
       "Amount_paid_inMay2005        30000.0    4799.387633   15278.305679       0.0   \n",
       "Amount_paid_inApril2005      30000.0    5215.502567   17777.465775       0.0   \n",
       "default payment next month   30000.0       0.221200       0.415062       0.0   \n",
       "\n",
       "                                  25%       50%        75%        max  \n",
       "ID                            7500.75   15000.5   22500.25    30000.0  \n",
       "Credit_limit                 50000.00  140000.0  240000.00  1000000.0  \n",
       "Gender                           1.00       2.0       2.00        2.0  \n",
       "Education                        1.00       2.0       2.00        6.0  \n",
       "Marital_status                   1.00       2.0       2.00        3.0  \n",
       "Age_in_years                    28.00      34.0      41.00       79.0  \n",
       "Payment_status_in_Sep2005       -1.00       0.0       0.00        8.0  \n",
       "Payment_status_in_Aug2005       -1.00       0.0       0.00        8.0  \n",
       "Payment_status_in_July2005      -1.00       0.0       0.00        8.0  \n",
       "Payment_status_in_June2005      -1.00       0.0       0.00        8.0  \n",
       "Payment_status_in_May2005       -1.00       0.0       0.00        8.0  \n",
       "Payment_status_in_April2005     -1.00       0.0       0.00        8.0  \n",
       "Bill_stat_in_Sep2005          3558.75   22381.5   67091.00   964511.0  \n",
       "Bill_stat_in_Aug2005          2984.75   21200.0   64006.25   983931.0  \n",
       "Bill_stat_in_July2005         2666.25   20088.5   60164.75  1664089.0  \n",
       "Bill_stat_in_June2005         2326.75   19052.0   54506.00   891586.0  \n",
       "Bill_stat_in_May2005          1763.00   18104.5   50190.50   927171.0  \n",
       "Bill_stat_in_Apr2005          1256.00   17071.0   49198.25   961664.0  \n",
       "Amount_paid_inSep2005         1000.00    2100.0    5006.00   873552.0  \n",
       "Amount_paid_inAug2005          833.00    2009.0    5000.00  1684259.0  \n",
       "Amount_paid_inJuly2005         390.00    1800.0    4505.00   896040.0  \n",
       "Amount_paid_inJune2005         296.00    1500.0    4013.25   621000.0  \n",
       "Amount_paid_inMay2005          252.50    1500.0    4031.50   426529.0  \n",
       "Amount_paid_inApril2005        117.75    1500.0    4000.00   528666.0  \n",
       "default payment next month       0.00       0.0       0.00        1.0  "
      ]
     },
     "execution_count": 4,
     "metadata": {},
     "output_type": "execute_result"
    }
   ],
   "source": [
    "Credit.describe().transpose()"
   ]
  },
  {
   "cell_type": "code",
   "execution_count": 5,
   "metadata": {},
   "outputs": [
    {
     "data": {
      "text/plain": [
       "2    18112\n",
       "1    11888\n",
       "Name: Gender, dtype: int64"
      ]
     },
     "execution_count": 5,
     "metadata": {},
     "output_type": "execute_result"
    }
   ],
   "source": [
    "Credit['Gender'].value_counts()"
   ]
  },
  {
   "cell_type": "code",
   "execution_count": 6,
   "metadata": {},
   "outputs": [
    {
     "data": {
      "text/plain": [
       "2    14030\n",
       "1    10585\n",
       "3     4917\n",
       "5      280\n",
       "4      123\n",
       "6       51\n",
       "0       14\n",
       "Name: Education, dtype: int64"
      ]
     },
     "execution_count": 6,
     "metadata": {},
     "output_type": "execute_result"
    }
   ],
   "source": [
    "Credit['Education'].value_counts()"
   ]
  },
  {
   "cell_type": "markdown",
   "metadata": {},
   "source": [
    "### From the education data distribution, we can see that category 0,5 and 6 have quite a few counts and we could rename them as 4 for making our data/model simpler.\n",
    "\n",
    "i.e. Changing Education levels 0,5,6 to others(4)"
   ]
  },
  {
   "cell_type": "code",
   "execution_count": 7,
   "metadata": {},
   "outputs": [
    {
     "data": {
      "text/plain": [
       "2    14030\n",
       "1    10585\n",
       "3     4917\n",
       "4      468\n",
       "Name: Education, dtype: int64"
      ]
     },
     "execution_count": 7,
     "metadata": {},
     "output_type": "execute_result"
    }
   ],
   "source": [
    "Credit[\"Education\"]=Credit[\"Education\"].map({0:4,1:1,2:2,3:3,4:4,5:4,6:4})\n",
    "Credit['Education'].value_counts()"
   ]
  },
  {
   "cell_type": "code",
   "execution_count": 8,
   "metadata": {},
   "outputs": [
    {
     "data": {
      "text/plain": [
       "2    15964\n",
       "1    13659\n",
       "3      323\n",
       "0       54\n",
       "Name: Marital_status, dtype: int64"
      ]
     },
     "execution_count": 8,
     "metadata": {},
     "output_type": "execute_result"
    }
   ],
   "source": [
    "Credit['Marital_status'].value_counts()"
   ]
  },
  {
   "cell_type": "markdown",
   "metadata": {},
   "source": [
    "### Similarly lets change the Marital status level 0 to level 3\n"
   ]
  },
  {
   "cell_type": "code",
   "execution_count": 9,
   "metadata": {},
   "outputs": [
    {
     "data": {
      "text/plain": [
       "2    15964\n",
       "1    13659\n",
       "3      377\n",
       "Name: Marital_status, dtype: int64"
      ]
     },
     "execution_count": 9,
     "metadata": {},
     "output_type": "execute_result"
    }
   ],
   "source": [
    "Credit[\"Marital_status\"]=Credit[\"Marital_status\"].map({0:3,1:1,2:2,3:3})\n",
    "Credit['Marital_status'].value_counts()"
   ]
  },
  {
   "cell_type": "markdown",
   "metadata": {},
   "source": [
    "### Check if any null data exists"
   ]
  },
  {
   "cell_type": "code",
   "execution_count": 10,
   "metadata": {},
   "outputs": [
    {
     "data": {
      "text/plain": [
       "ID                             0\n",
       "Credit_limit                   0\n",
       "Gender                         0\n",
       "Education                      0\n",
       "Marital_status                 0\n",
       "Age_in_years                   0\n",
       "Payment_status_in_Sep2005      0\n",
       "Payment_status_in_Aug2005      0\n",
       "Payment_status_in_July2005     0\n",
       "Payment_status_in_June2005     0\n",
       "Payment_status_in_May2005      0\n",
       "Payment_status_in_April2005    0\n",
       "Bill_stat_in_Sep2005           0\n",
       "Bill_stat_in_Aug2005           0\n",
       "Bill_stat_in_July2005          0\n",
       "Bill_stat_in_June2005          0\n",
       "Bill_stat_in_May2005           0\n",
       "Bill_stat_in_Apr2005           0\n",
       "Amount_paid_inSep2005          0\n",
       "Amount_paid_inAug2005          0\n",
       "Amount_paid_inJuly2005         0\n",
       "Amount_paid_inJune2005         0\n",
       "Amount_paid_inMay2005          0\n",
       "Amount_paid_inApril2005        0\n",
       "default payment next month     0\n",
       "dtype: int64"
      ]
     },
     "execution_count": 10,
     "metadata": {},
     "output_type": "execute_result"
    }
   ],
   "source": [
    "Credit.apply(lambda x: sum(x.isnull()),axis=0) "
   ]
  },
  {
   "cell_type": "markdown",
   "metadata": {
    "collapsed": true
   },
   "source": [
    "## Visualize the data using seaborn"
   ]
  },
  {
   "cell_type": "code",
   "execution_count": 11,
   "metadata": {},
   "outputs": [],
   "source": [
    "import matplotlib\n",
    "import matplotlib.pyplot as plt\n",
    "from matplotlib.pyplot import suptitle\n",
    "import seaborn as sb"
   ]
  },
  {
   "cell_type": "code",
   "execution_count": 12,
   "metadata": {},
   "outputs": [
    {
     "data": {
      "text/plain": [
       "<matplotlib.axes._subplots.AxesSubplot at 0xadfe0b8>"
      ]
     },
     "execution_count": 12,
     "metadata": {},
     "output_type": "execute_result"
    },
    {
     "data": {
      "image/png": "[encoded data removed]",
      "text/plain": [
       "<Figure size 1080x504 with 1 Axes>"
      ]
     },
     "metadata": {
      "needs_background": "light"
     },
     "output_type": "display_data"
    }
   ],
   "source": [
    "#Limit Bal distribution\n",
    "plt.figure(figsize=(15, 7))\n",
    "\n",
    "Credit['Credit_limit'].hist(bins=60, color='purple')"
   ]
  },
  {
   "cell_type": "code",
   "execution_count": 13,
   "metadata": {},
   "outputs": [
    {
     "data": {
      "text/plain": [
       "<matplotlib.axes._subplots.AxesSubplot at 0xb14eeb8>"
      ]
     },
     "execution_count": 13,
     "metadata": {},
     "output_type": "execute_result"
    },
    {
     "data": {
      "image/png": "[encoded data removed]",
      "text/plain": [
       "<Figure size 1080x504 with 1 Axes>"
      ]
     },
     "metadata": {
      "needs_background": "light"
     },
     "output_type": "display_data"
    }
   ],
   "source": [
    "#prediction labels\n",
    "plt.figure(figsize=(15, 7))\n",
    "\n",
    "Credit.groupby('default payment next month').size().plot(kind='bar', color='green')"
   ]
  },
  {
   "cell_type": "code",
   "execution_count": 14,
   "metadata": {},
   "outputs": [
    {
     "data": {
      "text/plain": [
       "<matplotlib.axes._subplots.AxesSubplot at 0xaefa6a0>"
      ]
     },
     "execution_count": 14,
     "metadata": {},
     "output_type": "execute_result"
    },
    {
     "data": {
      "image/png": "[encoded data removed]",
      "text/plain": [
       "<Figure size 1080x504 with 1 Axes>"
      ]
     },
     "metadata": {
      "needs_background": "light"
     },
     "output_type": "display_data"
    }
   ],
   "source": [
    "#default payment vs Limi_bal wrt gender\n",
    "plt.figure(figsize=(15, 7))\n",
    "\n",
    "sb.barplot(x=\"default payment next month\",y=\"Credit_limit\", hue=\"Gender\", data=Credit, palette=\"Reds\")"
   ]
  },
  {
   "cell_type": "code",
   "execution_count": 15,
   "metadata": {},
   "outputs": [
    {
     "data": {
      "text/plain": [
       "<matplotlib.axes._subplots.AxesSubplot at 0xc309668>"
      ]
     },
     "execution_count": 15,
     "metadata": {},
     "output_type": "execute_result"
    },
    {
     "data": {
      "image/png": "[encoded data removed]",
      "text/plain": [
       "<Figure size 1080x504 with 1 Axes>"
      ]
     },
     "metadata": {
      "needs_background": "light"
     },
     "output_type": "display_data"
    }
   ],
   "source": [
    "#Education levels count vs default payments\n",
    "plt.figure(figsize=(15, 7))\n",
    "\n",
    "sb.countplot(x=\"Education\", hue=\"default payment next month\", data=Credit, palette=\"Set1\")"
   ]
  },
  {
   "cell_type": "code",
   "execution_count": 16,
   "metadata": {},
   "outputs": [
    {
     "data": {
      "text/plain": [
       "<matplotlib.axes._subplots.AxesSubplot at 0xc53cba8>"
      ]
     },
     "execution_count": 16,
     "metadata": {},
     "output_type": "execute_result"
    },
    {
     "data": {
      "image/png": "[encoded data removed]",
      "text/plain": [
       "<Figure size 1080x504 with 1 Axes>"
      ]
     },
     "metadata": {
      "needs_background": "light"
     },
     "output_type": "display_data"
    }
   ],
   "source": [
    "#Marriage levels count\n",
    "plt.figure(figsize=(15, 7))\n",
    "\n",
    "sb.countplot(x=\"Marital_status\", data=Credit, palette=\"Set2\")"
   ]
  },
  {
   "cell_type": "code",
   "execution_count": 17,
   "metadata": {},
   "outputs": [
    {
     "data": {
      "text/plain": [
       "<matplotlib.axes._subplots.AxesSubplot at 0xc34b470>"
      ]
     },
     "execution_count": 17,
     "metadata": {},
     "output_type": "execute_result"
    },
    {
     "data": {
      "image/png": "[encoded data removed]",
      "text/plain": [
       "<Figure size 1080x504 with 1 Axes>"
      ]
     },
     "metadata": {
      "needs_background": "light"
     },
     "output_type": "display_data"
    }
   ],
   "source": [
    "#Marriage levels vs defaul payments\n",
    "plt.figure(figsize=(15, 7))\n",
    "\n",
    "sb.countplot(x=\"Marital_status\", hue=\"default payment next month\", data=Credit, palette=\"bright\")"
   ]
  },
  {
   "cell_type": "code",
   "execution_count": 18,
   "metadata": {},
   "outputs": [
    {
     "data": {
      "text/plain": [
       "<matplotlib.axes._subplots.AxesSubplot at 0xc33a588>"
      ]
     },
     "execution_count": 18,
     "metadata": {},
     "output_type": "execute_result"
    },
    {
     "data": {
      "image/png": "[encoded data removed]",
      "text/plain": [
       "<Figure size 1440x720 with 1 Axes>"
      ]
     },
     "metadata": {
      "needs_background": "light"
     },
     "output_type": "display_data"
    }
   ],
   "source": [
    "#aLL Pay distributions\n",
    "\n",
    "Pay_distributions=Credit[['Payment_status_in_Sep2005', 'Payment_status_in_Aug2005','Payment_status_in_July2005','Payment_status_in_June2005','Payment_status_in_May2005','Payment_status_in_April2005']]\n",
    "\n",
    "plt.figure(figsize=(20, 10))\n",
    "suptitle(\"Payment status distribution\")\n",
    "\n",
    "sb.countplot(x=\"value\", hue=\"variable\", data=pd.melt(Pay_distributions))\n"
   ]
  },
  {
   "cell_type": "code",
   "execution_count": 19,
   "metadata": {},
   "outputs": [
    {
     "data": {
      "text/plain": [
       "<matplotlib.axes._subplots.AxesSubplot at 0xce66278>"
      ]
     },
     "execution_count": 19,
     "metadata": {},
     "output_type": "execute_result"
    },
    {
     "data": {
      "image/png": "[encoded data removed]",
      "text/plain": [
       "<Figure size 1440x720 with 1 Axes>"
      ]
     },
     "metadata": {
      "needs_background": "light"
     },
     "output_type": "display_data"
    }
   ],
   "source": [
    "plt.figure(figsize=(20, 10))\n",
    "suptitle(\"Payment status distribution\")\n",
    "\n",
    "sb.countplot(x=\"variable\", hue=\"value\", data=pd.melt(Pay_distributions), palette=\"Set1\")\n"
   ]
  },
  {
   "cell_type": "markdown",
   "metadata": {},
   "source": [
    "## Calculate correlation matrix\n"
   ]
  },
  {
   "cell_type": "code",
   "execution_count": 20,
   "metadata": {},
   "outputs": [
    {
     "data": {
      "text/html": [
       "<div>\n",
       "<style scoped>\n",
       "    .dataframe tbody tr th:only-of-type {\n",
       "        vertical-align: middle;\n",
       "    }\n",
       "\n",
       "    .dataframe tbody tr th {\n",
       "        vertical-align: top;\n",
       "    }\n",
       "\n",
       "    .dataframe thead th {\n",
       "        text-align: right;\n",
       "    }\n",
       "</style>\n",
       "<table border=\"1\" class=\"dataframe\">\n",
       "  <thead>\n",
       "    <tr style=\"text-align: right;\">\n",
       "      <th></th>\n",
       "      <th>ID</th>\n",
       "      <th>Credit_limit</th>\n",
       "      <th>Gender</th>\n",
       "      <th>Education</th>\n",
       "      <th>Marital_status</th>\n",
       "      <th>Age_in_years</th>\n",
       "      <th>Payment_status_in_Sep2005</th>\n",
       "      <th>Payment_status_in_Aug2005</th>\n",
       "      <th>Payment_status_in_July2005</th>\n",
       "      <th>Payment_status_in_June2005</th>\n",
       "      <th>...</th>\n",
       "      <th>Bill_stat_in_June2005</th>\n",
       "      <th>Bill_stat_in_May2005</th>\n",
       "      <th>Bill_stat_in_Apr2005</th>\n",
       "      <th>Amount_paid_inSep2005</th>\n",
       "      <th>Amount_paid_inAug2005</th>\n",
       "      <th>Amount_paid_inJuly2005</th>\n",
       "      <th>Amount_paid_inJune2005</th>\n",
       "      <th>Amount_paid_inMay2005</th>\n",
       "      <th>Amount_paid_inApril2005</th>\n",
       "      <th>default payment next month</th>\n",
       "    </tr>\n",
       "  </thead>\n",
       "  <tbody>\n",
       "    <tr>\n",
       "      <th>ID</th>\n",
       "      <td>1.000000</td>\n",
       "      <td>0.026179</td>\n",
       "      <td>0.018497</td>\n",
       "      <td>0.037659</td>\n",
       "      <td>-0.028208</td>\n",
       "      <td>0.018678</td>\n",
       "      <td>-0.030575</td>\n",
       "      <td>-0.011215</td>\n",
       "      <td>-0.018494</td>\n",
       "      <td>-0.002735</td>\n",
       "      <td>...</td>\n",
       "      <td>0.040351</td>\n",
       "      <td>0.016705</td>\n",
       "      <td>0.016730</td>\n",
       "      <td>0.009742</td>\n",
       "      <td>0.008406</td>\n",
       "      <td>0.039151</td>\n",
       "      <td>0.007793</td>\n",
       "      <td>0.000652</td>\n",
       "      <td>0.003000</td>\n",
       "      <td>-0.013952</td>\n",
       "    </tr>\n",
       "    <tr>\n",
       "      <th>Credit_limit</th>\n",
       "      <td>0.026179</td>\n",
       "      <td>1.000000</td>\n",
       "      <td>0.024755</td>\n",
       "      <td>-0.231088</td>\n",
       "      <td>-0.111012</td>\n",
       "      <td>0.144713</td>\n",
       "      <td>-0.271214</td>\n",
       "      <td>-0.296382</td>\n",
       "      <td>-0.286123</td>\n",
       "      <td>-0.267460</td>\n",
       "      <td>...</td>\n",
       "      <td>0.293988</td>\n",
       "      <td>0.295562</td>\n",
       "      <td>0.290389</td>\n",
       "      <td>0.195236</td>\n",
       "      <td>0.178408</td>\n",
       "      <td>0.210167</td>\n",
       "      <td>0.203242</td>\n",
       "      <td>0.217202</td>\n",
       "      <td>0.219595</td>\n",
       "      <td>-0.153520</td>\n",
       "    </tr>\n",
       "    <tr>\n",
       "      <th>Gender</th>\n",
       "      <td>0.018497</td>\n",
       "      <td>0.024755</td>\n",
       "      <td>1.000000</td>\n",
       "      <td>0.013627</td>\n",
       "      <td>-0.028522</td>\n",
       "      <td>-0.090874</td>\n",
       "      <td>-0.057643</td>\n",
       "      <td>-0.070771</td>\n",
       "      <td>-0.066096</td>\n",
       "      <td>-0.060173</td>\n",
       "      <td>...</td>\n",
       "      <td>-0.021880</td>\n",
       "      <td>-0.017005</td>\n",
       "      <td>-0.016733</td>\n",
       "      <td>-0.000242</td>\n",
       "      <td>-0.001391</td>\n",
       "      <td>-0.008597</td>\n",
       "      <td>-0.002229</td>\n",
       "      <td>-0.001667</td>\n",
       "      <td>-0.002766</td>\n",
       "      <td>-0.039961</td>\n",
       "    </tr>\n",
       "    <tr>\n",
       "      <th>Education</th>\n",
       "      <td>0.037659</td>\n",
       "      <td>-0.231088</td>\n",
       "      <td>0.013627</td>\n",
       "      <td>1.000000</td>\n",
       "      <td>-0.136797</td>\n",
       "      <td>0.182434</td>\n",
       "      <td>0.112593</td>\n",
       "      <td>0.129703</td>\n",
       "      <td>0.122425</td>\n",
       "      <td>0.116531</td>\n",
       "      <td>...</td>\n",
       "      <td>-0.006131</td>\n",
       "      <td>-0.012439</td>\n",
       "      <td>-0.012646</td>\n",
       "      <td>-0.041088</td>\n",
       "      <td>-0.032793</td>\n",
       "      <td>-0.044293</td>\n",
       "      <td>-0.040949</td>\n",
       "      <td>-0.045138</td>\n",
       "      <td>-0.044061</td>\n",
       "      <td>0.033842</td>\n",
       "    </tr>\n",
       "    <tr>\n",
       "      <th>Marital_status</th>\n",
       "      <td>-0.028208</td>\n",
       "      <td>-0.111012</td>\n",
       "      <td>-0.028522</td>\n",
       "      <td>-0.136797</td>\n",
       "      <td>1.000000</td>\n",
       "      <td>-0.412001</td>\n",
       "      <td>0.018557</td>\n",
       "      <td>0.023620</td>\n",
       "      <td>0.032399</td>\n",
       "      <td>0.031831</td>\n",
       "      <td>...</td>\n",
       "      <td>-0.027274</td>\n",
       "      <td>-0.029270</td>\n",
       "      <td>-0.025066</td>\n",
       "      <td>-0.004653</td>\n",
       "      <td>-0.009513</td>\n",
       "      <td>-0.004250</td>\n",
       "      <td>-0.013970</td>\n",
       "      <td>-0.003019</td>\n",
       "      <td>-0.008383</td>\n",
       "      <td>-0.027575</td>\n",
       "    </tr>\n",
       "    <tr>\n",
       "      <th>Age_in_years</th>\n",
       "      <td>0.018678</td>\n",
       "      <td>0.144713</td>\n",
       "      <td>-0.090874</td>\n",
       "      <td>0.182434</td>\n",
       "      <td>-0.412001</td>\n",
       "      <td>1.000000</td>\n",
       "      <td>-0.039447</td>\n",
       "      <td>-0.050148</td>\n",
       "      <td>-0.053048</td>\n",
       "      <td>-0.049722</td>\n",
       "      <td>...</td>\n",
       "      <td>0.051353</td>\n",
       "      <td>0.049345</td>\n",
       "      <td>0.047613</td>\n",
       "      <td>0.026147</td>\n",
       "      <td>0.021785</td>\n",
       "      <td>0.029247</td>\n",
       "      <td>0.021379</td>\n",
       "      <td>0.022850</td>\n",
       "      <td>0.019478</td>\n",
       "      <td>0.013890</td>\n",
       "    </tr>\n",
       "    <tr>\n",
       "      <th>Payment_status_in_Sep2005</th>\n",
       "      <td>-0.030575</td>\n",
       "      <td>-0.271214</td>\n",
       "      <td>-0.057643</td>\n",
       "      <td>0.112593</td>\n",
       "      <td>0.018557</td>\n",
       "      <td>-0.039447</td>\n",
       "      <td>1.000000</td>\n",
       "      <td>0.672164</td>\n",
       "      <td>0.574245</td>\n",
       "      <td>0.538841</td>\n",
       "      <td>...</td>\n",
       "      <td>0.179125</td>\n",
       "      <td>0.180635</td>\n",
       "      <td>0.176980</td>\n",
       "      <td>-0.079269</td>\n",
       "      <td>-0.070101</td>\n",
       "      <td>-0.070561</td>\n",
       "      <td>-0.064005</td>\n",
       "      <td>-0.058190</td>\n",
       "      <td>-0.058673</td>\n",
       "      <td>0.324794</td>\n",
       "    </tr>\n",
       "    <tr>\n",
       "      <th>Payment_status_in_Aug2005</th>\n",
       "      <td>-0.011215</td>\n",
       "      <td>-0.296382</td>\n",
       "      <td>-0.070771</td>\n",
       "      <td>0.129703</td>\n",
       "      <td>0.023620</td>\n",
       "      <td>-0.050148</td>\n",
       "      <td>0.672164</td>\n",
       "      <td>1.000000</td>\n",
       "      <td>0.766552</td>\n",
       "      <td>0.662067</td>\n",
       "      <td>...</td>\n",
       "      <td>0.222237</td>\n",
       "      <td>0.221348</td>\n",
       "      <td>0.219403</td>\n",
       "      <td>-0.080701</td>\n",
       "      <td>-0.058990</td>\n",
       "      <td>-0.055901</td>\n",
       "      <td>-0.046858</td>\n",
       "      <td>-0.037093</td>\n",
       "      <td>-0.036500</td>\n",
       "      <td>0.263551</td>\n",
       "    </tr>\n",
       "    <tr>\n",
       "      <th>Payment_status_in_July2005</th>\n",
       "      <td>-0.018494</td>\n",
       "      <td>-0.286123</td>\n",
       "      <td>-0.066096</td>\n",
       "      <td>0.122425</td>\n",
       "      <td>0.032399</td>\n",
       "      <td>-0.053048</td>\n",
       "      <td>0.574245</td>\n",
       "      <td>0.766552</td>\n",
       "      <td>1.000000</td>\n",
       "      <td>0.777359</td>\n",
       "      <td>...</td>\n",
       "      <td>0.227202</td>\n",
       "      <td>0.225145</td>\n",
       "      <td>0.222327</td>\n",
       "      <td>0.001295</td>\n",
       "      <td>-0.066793</td>\n",
       "      <td>-0.053311</td>\n",
       "      <td>-0.046067</td>\n",
       "      <td>-0.035863</td>\n",
       "      <td>-0.035861</td>\n",
       "      <td>0.235253</td>\n",
       "    </tr>\n",
       "    <tr>\n",
       "      <th>Payment_status_in_June2005</th>\n",
       "      <td>-0.002735</td>\n",
       "      <td>-0.267460</td>\n",
       "      <td>-0.060173</td>\n",
       "      <td>0.116531</td>\n",
       "      <td>0.031831</td>\n",
       "      <td>-0.049722</td>\n",
       "      <td>0.538841</td>\n",
       "      <td>0.662067</td>\n",
       "      <td>0.777359</td>\n",
       "      <td>1.000000</td>\n",
       "      <td>...</td>\n",
       "      <td>0.245917</td>\n",
       "      <td>0.242902</td>\n",
       "      <td>0.239154</td>\n",
       "      <td>-0.009362</td>\n",
       "      <td>-0.001944</td>\n",
       "      <td>-0.069235</td>\n",
       "      <td>-0.043461</td>\n",
       "      <td>-0.033590</td>\n",
       "      <td>-0.026565</td>\n",
       "      <td>0.216614</td>\n",
       "    </tr>\n",
       "    <tr>\n",
       "      <th>Payment_status_in_May2005</th>\n",
       "      <td>-0.022199</td>\n",
       "      <td>-0.249411</td>\n",
       "      <td>-0.055064</td>\n",
       "      <td>0.104088</td>\n",
       "      <td>0.034377</td>\n",
       "      <td>-0.053826</td>\n",
       "      <td>0.509426</td>\n",
       "      <td>0.622780</td>\n",
       "      <td>0.686775</td>\n",
       "      <td>0.819835</td>\n",
       "      <td>...</td>\n",
       "      <td>0.271915</td>\n",
       "      <td>0.269783</td>\n",
       "      <td>0.262509</td>\n",
       "      <td>-0.006089</td>\n",
       "      <td>-0.003191</td>\n",
       "      <td>0.009062</td>\n",
       "      <td>-0.058299</td>\n",
       "      <td>-0.033337</td>\n",
       "      <td>-0.023027</td>\n",
       "      <td>0.204149</td>\n",
       "    </tr>\n",
       "    <tr>\n",
       "      <th>Payment_status_in_April2005</th>\n",
       "      <td>-0.020270</td>\n",
       "      <td>-0.235195</td>\n",
       "      <td>-0.044008</td>\n",
       "      <td>0.088986</td>\n",
       "      <td>0.033168</td>\n",
       "      <td>-0.048773</td>\n",
       "      <td>0.474553</td>\n",
       "      <td>0.575501</td>\n",
       "      <td>0.632684</td>\n",
       "      <td>0.716449</td>\n",
       "      <td>...</td>\n",
       "      <td>0.266356</td>\n",
       "      <td>0.290894</td>\n",
       "      <td>0.285091</td>\n",
       "      <td>-0.001496</td>\n",
       "      <td>-0.005223</td>\n",
       "      <td>0.005834</td>\n",
       "      <td>0.019018</td>\n",
       "      <td>-0.046434</td>\n",
       "      <td>-0.025299</td>\n",
       "      <td>0.186866</td>\n",
       "    </tr>\n",
       "    <tr>\n",
       "      <th>Bill_stat_in_Sep2005</th>\n",
       "      <td>0.019389</td>\n",
       "      <td>0.285430</td>\n",
       "      <td>-0.033642</td>\n",
       "      <td>0.016597</td>\n",
       "      <td>-0.027832</td>\n",
       "      <td>0.056239</td>\n",
       "      <td>0.187068</td>\n",
       "      <td>0.234887</td>\n",
       "      <td>0.208473</td>\n",
       "      <td>0.202812</td>\n",
       "      <td>...</td>\n",
       "      <td>0.860272</td>\n",
       "      <td>0.829779</td>\n",
       "      <td>0.802650</td>\n",
       "      <td>0.140277</td>\n",
       "      <td>0.099355</td>\n",
       "      <td>0.156887</td>\n",
       "      <td>0.158303</td>\n",
       "      <td>0.167026</td>\n",
       "      <td>0.179341</td>\n",
       "      <td>-0.019644</td>\n",
       "    </tr>\n",
       "    <tr>\n",
       "      <th>Bill_stat_in_Aug2005</th>\n",
       "      <td>0.017982</td>\n",
       "      <td>0.278314</td>\n",
       "      <td>-0.031183</td>\n",
       "      <td>0.011980</td>\n",
       "      <td>-0.025294</td>\n",
       "      <td>0.054283</td>\n",
       "      <td>0.189859</td>\n",
       "      <td>0.235257</td>\n",
       "      <td>0.237295</td>\n",
       "      <td>0.225816</td>\n",
       "      <td>...</td>\n",
       "      <td>0.892482</td>\n",
       "      <td>0.859778</td>\n",
       "      <td>0.831594</td>\n",
       "      <td>0.280365</td>\n",
       "      <td>0.100851</td>\n",
       "      <td>0.150718</td>\n",
       "      <td>0.147398</td>\n",
       "      <td>0.157957</td>\n",
       "      <td>0.174256</td>\n",
       "      <td>-0.014193</td>\n",
       "    </tr>\n",
       "    <tr>\n",
       "      <th>Bill_stat_in_July2005</th>\n",
       "      <td>0.024354</td>\n",
       "      <td>0.283236</td>\n",
       "      <td>-0.024563</td>\n",
       "      <td>0.006714</td>\n",
       "      <td>-0.029082</td>\n",
       "      <td>0.053710</td>\n",
       "      <td>0.179785</td>\n",
       "      <td>0.224146</td>\n",
       "      <td>0.227494</td>\n",
       "      <td>0.244983</td>\n",
       "      <td>...</td>\n",
       "      <td>0.923969</td>\n",
       "      <td>0.883910</td>\n",
       "      <td>0.853320</td>\n",
       "      <td>0.244335</td>\n",
       "      <td>0.316936</td>\n",
       "      <td>0.130011</td>\n",
       "      <td>0.143405</td>\n",
       "      <td>0.179712</td>\n",
       "      <td>0.182326</td>\n",
       "      <td>-0.014076</td>\n",
       "    </tr>\n",
       "    <tr>\n",
       "      <th>Bill_stat_in_June2005</th>\n",
       "      <td>0.040351</td>\n",
       "      <td>0.293988</td>\n",
       "      <td>-0.021880</td>\n",
       "      <td>-0.006131</td>\n",
       "      <td>-0.027274</td>\n",
       "      <td>0.051353</td>\n",
       "      <td>0.179125</td>\n",
       "      <td>0.222237</td>\n",
       "      <td>0.227202</td>\n",
       "      <td>0.245917</td>\n",
       "      <td>...</td>\n",
       "      <td>1.000000</td>\n",
       "      <td>0.940134</td>\n",
       "      <td>0.900941</td>\n",
       "      <td>0.233012</td>\n",
       "      <td>0.207564</td>\n",
       "      <td>0.300023</td>\n",
       "      <td>0.130191</td>\n",
       "      <td>0.160433</td>\n",
       "      <td>0.177637</td>\n",
       "      <td>-0.010156</td>\n",
       "    </tr>\n",
       "    <tr>\n",
       "      <th>Bill_stat_in_May2005</th>\n",
       "      <td>0.016705</td>\n",
       "      <td>0.295562</td>\n",
       "      <td>-0.017005</td>\n",
       "      <td>-0.012439</td>\n",
       "      <td>-0.029270</td>\n",
       "      <td>0.049345</td>\n",
       "      <td>0.180635</td>\n",
       "      <td>0.221348</td>\n",
       "      <td>0.225145</td>\n",
       "      <td>0.242902</td>\n",
       "      <td>...</td>\n",
       "      <td>0.940134</td>\n",
       "      <td>1.000000</td>\n",
       "      <td>0.946197</td>\n",
       "      <td>0.217031</td>\n",
       "      <td>0.181246</td>\n",
       "      <td>0.252305</td>\n",
       "      <td>0.293118</td>\n",
       "      <td>0.141574</td>\n",
       "      <td>0.164184</td>\n",
       "      <td>-0.006760</td>\n",
       "    </tr>\n",
       "    <tr>\n",
       "      <th>Bill_stat_in_Apr2005</th>\n",
       "      <td>0.016730</td>\n",
       "      <td>0.290389</td>\n",
       "      <td>-0.016733</td>\n",
       "      <td>-0.012646</td>\n",
       "      <td>-0.025066</td>\n",
       "      <td>0.047613</td>\n",
       "      <td>0.176980</td>\n",
       "      <td>0.219403</td>\n",
       "      <td>0.222327</td>\n",
       "      <td>0.239154</td>\n",
       "      <td>...</td>\n",
       "      <td>0.900941</td>\n",
       "      <td>0.946197</td>\n",
       "      <td>1.000000</td>\n",
       "      <td>0.199965</td>\n",
       "      <td>0.172663</td>\n",
       "      <td>0.233770</td>\n",
       "      <td>0.250237</td>\n",
       "      <td>0.307729</td>\n",
       "      <td>0.115494</td>\n",
       "      <td>-0.005372</td>\n",
       "    </tr>\n",
       "    <tr>\n",
       "      <th>Amount_paid_inSep2005</th>\n",
       "      <td>0.009742</td>\n",
       "      <td>0.195236</td>\n",
       "      <td>-0.000242</td>\n",
       "      <td>-0.041088</td>\n",
       "      <td>-0.004653</td>\n",
       "      <td>0.026147</td>\n",
       "      <td>-0.079269</td>\n",
       "      <td>-0.080701</td>\n",
       "      <td>0.001295</td>\n",
       "      <td>-0.009362</td>\n",
       "      <td>...</td>\n",
       "      <td>0.233012</td>\n",
       "      <td>0.217031</td>\n",
       "      <td>0.199965</td>\n",
       "      <td>1.000000</td>\n",
       "      <td>0.285576</td>\n",
       "      <td>0.252191</td>\n",
       "      <td>0.199558</td>\n",
       "      <td>0.148459</td>\n",
       "      <td>0.185735</td>\n",
       "      <td>-0.072929</td>\n",
       "    </tr>\n",
       "    <tr>\n",
       "      <th>Amount_paid_inAug2005</th>\n",
       "      <td>0.008406</td>\n",
       "      <td>0.178408</td>\n",
       "      <td>-0.001391</td>\n",
       "      <td>-0.032793</td>\n",
       "      <td>-0.009513</td>\n",
       "      <td>0.021785</td>\n",
       "      <td>-0.070101</td>\n",
       "      <td>-0.058990</td>\n",
       "      <td>-0.066793</td>\n",
       "      <td>-0.001944</td>\n",
       "      <td>...</td>\n",
       "      <td>0.207564</td>\n",
       "      <td>0.181246</td>\n",
       "      <td>0.172663</td>\n",
       "      <td>0.285576</td>\n",
       "      <td>1.000000</td>\n",
       "      <td>0.244770</td>\n",
       "      <td>0.180107</td>\n",
       "      <td>0.180908</td>\n",
       "      <td>0.157634</td>\n",
       "      <td>-0.058579</td>\n",
       "    </tr>\n",
       "    <tr>\n",
       "      <th>Amount_paid_inJuly2005</th>\n",
       "      <td>0.039151</td>\n",
       "      <td>0.210167</td>\n",
       "      <td>-0.008597</td>\n",
       "      <td>-0.044293</td>\n",
       "      <td>-0.004250</td>\n",
       "      <td>0.029247</td>\n",
       "      <td>-0.070561</td>\n",
       "      <td>-0.055901</td>\n",
       "      <td>-0.053311</td>\n",
       "      <td>-0.069235</td>\n",
       "      <td>...</td>\n",
       "      <td>0.300023</td>\n",
       "      <td>0.252305</td>\n",
       "      <td>0.233770</td>\n",
       "      <td>0.252191</td>\n",
       "      <td>0.244770</td>\n",
       "      <td>1.000000</td>\n",
       "      <td>0.216325</td>\n",
       "      <td>0.159214</td>\n",
       "      <td>0.162740</td>\n",
       "      <td>-0.056250</td>\n",
       "    </tr>\n",
       "    <tr>\n",
       "      <th>Amount_paid_inJune2005</th>\n",
       "      <td>0.007793</td>\n",
       "      <td>0.203242</td>\n",
       "      <td>-0.002229</td>\n",
       "      <td>-0.040949</td>\n",
       "      <td>-0.013970</td>\n",
       "      <td>0.021379</td>\n",
       "      <td>-0.064005</td>\n",
       "      <td>-0.046858</td>\n",
       "      <td>-0.046067</td>\n",
       "      <td>-0.043461</td>\n",
       "      <td>...</td>\n",
       "      <td>0.130191</td>\n",
       "      <td>0.293118</td>\n",
       "      <td>0.250237</td>\n",
       "      <td>0.199558</td>\n",
       "      <td>0.180107</td>\n",
       "      <td>0.216325</td>\n",
       "      <td>1.000000</td>\n",
       "      <td>0.151830</td>\n",
       "      <td>0.157834</td>\n",
       "      <td>-0.056827</td>\n",
       "    </tr>\n",
       "    <tr>\n",
       "      <th>Amount_paid_inMay2005</th>\n",
       "      <td>0.000652</td>\n",
       "      <td>0.217202</td>\n",
       "      <td>-0.001667</td>\n",
       "      <td>-0.045138</td>\n",
       "      <td>-0.003019</td>\n",
       "      <td>0.022850</td>\n",
       "      <td>-0.058190</td>\n",
       "      <td>-0.037093</td>\n",
       "      <td>-0.035863</td>\n",
       "      <td>-0.033590</td>\n",
       "      <td>...</td>\n",
       "      <td>0.160433</td>\n",
       "      <td>0.141574</td>\n",
       "      <td>0.307729</td>\n",
       "      <td>0.148459</td>\n",
       "      <td>0.180908</td>\n",
       "      <td>0.159214</td>\n",
       "      <td>0.151830</td>\n",
       "      <td>1.000000</td>\n",
       "      <td>0.154896</td>\n",
       "      <td>-0.055124</td>\n",
       "    </tr>\n",
       "    <tr>\n",
       "      <th>Amount_paid_inApril2005</th>\n",
       "      <td>0.003000</td>\n",
       "      <td>0.219595</td>\n",
       "      <td>-0.002766</td>\n",
       "      <td>-0.044061</td>\n",
       "      <td>-0.008383</td>\n",
       "      <td>0.019478</td>\n",
       "      <td>-0.058673</td>\n",
       "      <td>-0.036500</td>\n",
       "      <td>-0.035861</td>\n",
       "      <td>-0.026565</td>\n",
       "      <td>...</td>\n",
       "      <td>0.177637</td>\n",
       "      <td>0.164184</td>\n",
       "      <td>0.115494</td>\n",
       "      <td>0.185735</td>\n",
       "      <td>0.157634</td>\n",
       "      <td>0.162740</td>\n",
       "      <td>0.157834</td>\n",
       "      <td>0.154896</td>\n",
       "      <td>1.000000</td>\n",
       "      <td>-0.053183</td>\n",
       "    </tr>\n",
       "    <tr>\n",
       "      <th>default payment next month</th>\n",
       "      <td>-0.013952</td>\n",
       "      <td>-0.153520</td>\n",
       "      <td>-0.039961</td>\n",
       "      <td>0.033842</td>\n",
       "      <td>-0.027575</td>\n",
       "      <td>0.013890</td>\n",
       "      <td>0.324794</td>\n",
       "      <td>0.263551</td>\n",
       "      <td>0.235253</td>\n",
       "      <td>0.216614</td>\n",
       "      <td>...</td>\n",
       "      <td>-0.010156</td>\n",
       "      <td>-0.006760</td>\n",
       "      <td>-0.005372</td>\n",
       "      <td>-0.072929</td>\n",
       "      <td>-0.058579</td>\n",
       "      <td>-0.056250</td>\n",
       "      <td>-0.056827</td>\n",
       "      <td>-0.055124</td>\n",
       "      <td>-0.053183</td>\n",
       "      <td>1.000000</td>\n",
       "    </tr>\n",
       "  </tbody>\n",
       "</table>\n",
       "<p>25 rows × 25 columns</p>\n",
       "</div>"
      ],
      "text/plain": [
       "                                   ID  Credit_limit    Gender  Education  \\\n",
       "ID                           1.000000      0.026179  0.018497   0.037659   \n",
       "Credit_limit                 0.026179      1.000000  0.024755  -0.231088   \n",
       "Gender                       0.018497      0.024755  1.000000   0.013627   \n",
       "Education                    0.037659     -0.231088  0.013627   1.000000   \n",
       "Marital_status              -0.028208     -0.111012 -0.028522  -0.136797   \n",
       "Age_in_years                 0.018678      0.144713 -0.090874   0.182434   \n",
       "Payment_status_in_Sep2005   -0.030575     -0.271214 -0.057643   0.112593   \n",
       "Payment_status_in_Aug2005   -0.011215     -0.296382 -0.070771   0.129703   \n",
       "Payment_status_in_July2005  -0.018494     -0.286123 -0.066096   0.122425   \n",
       "Payment_status_in_June2005  -0.002735     -0.267460 -0.060173   0.116531   \n",
       "Payment_status_in_May2005   -0.022199     -0.249411 -0.055064   0.104088   \n",
       "Payment_status_in_April2005 -0.020270     -0.235195 -0.044008   0.088986   \n",
       "Bill_stat_in_Sep2005         0.019389      0.285430 -0.033642   0.016597   \n",
       "Bill_stat_in_Aug2005         0.017982      0.278314 -0.031183   0.011980   \n",
       "Bill_stat_in_July2005        0.024354      0.283236 -0.024563   0.006714   \n",
       "Bill_stat_in_June2005        0.040351      0.293988 -0.021880  -0.006131   \n",
       "Bill_stat_in_May2005         0.016705      0.295562 -0.017005  -0.012439   \n",
       "Bill_stat_in_Apr2005         0.016730      0.290389 -0.016733  -0.012646   \n",
       "Amount_paid_inSep2005        0.009742      0.195236 -0.000242  -0.041088   \n",
       "Amount_paid_inAug2005        0.008406      0.178408 -0.001391  -0.032793   \n",
       "Amount_paid_inJuly2005       0.039151      0.210167 -0.008597  -0.044293   \n",
       "Amount_paid_inJune2005       0.007793      0.203242 -0.002229  -0.040949   \n",
       "Amount_paid_inMay2005        0.000652      0.217202 -0.001667  -0.045138   \n",
       "Amount_paid_inApril2005      0.003000      0.219595 -0.002766  -0.044061   \n",
       "default payment next month  -0.013952     -0.153520 -0.039961   0.033842   \n",
       "\n",
       "                             Marital_status  Age_in_years  \\\n",
       "ID                                -0.028208      0.018678   \n",
       "Credit_limit                      -0.111012      0.144713   \n",
       "Gender                            -0.028522     -0.090874   \n",
       "Education                         -0.136797      0.182434   \n",
       "Marital_status                     1.000000     -0.412001   \n",
       "Age_in_years                      -0.412001      1.000000   \n",
       "Payment_status_in_Sep2005          0.018557     -0.039447   \n",
       "Payment_status_in_Aug2005          0.023620     -0.050148   \n",
       "Payment_status_in_July2005         0.032399     -0.053048   \n",
       "Payment_status_in_June2005         0.031831     -0.049722   \n",
       "Payment_status_in_May2005          0.034377     -0.053826   \n",
       "Payment_status_in_April2005        0.033168     -0.048773   \n",
       "Bill_stat_in_Sep2005              -0.027832      0.056239   \n",
       "Bill_stat_in_Aug2005              -0.025294      0.054283   \n",
       "Bill_stat_in_July2005             -0.029082      0.053710   \n",
       "Bill_stat_in_June2005             -0.027274      0.051353   \n",
       "Bill_stat_in_May2005              -0.029270      0.049345   \n",
       "Bill_stat_in_Apr2005              -0.025066      0.047613   \n",
       "Amount_paid_inSep2005             -0.004653      0.026147   \n",
       "Amount_paid_inAug2005             -0.009513      0.021785   \n",
       "Amount_paid_inJuly2005            -0.004250      0.029247   \n",
       "Amount_paid_inJune2005            -0.013970      0.021379   \n",
       "Amount_paid_inMay2005             -0.003019      0.022850   \n",
       "Amount_paid_inApril2005           -0.008383      0.019478   \n",
       "default payment next month        -0.027575      0.013890   \n",
       "\n",
       "                             Payment_status_in_Sep2005  \\\n",
       "ID                                           -0.030575   \n",
       "Credit_limit                                 -0.271214   \n",
       "Gender                                       -0.057643   \n",
       "Education                                     0.112593   \n",
       "Marital_status                                0.018557   \n",
       "Age_in_years                                 -0.039447   \n",
       "Payment_status_in_Sep2005                     1.000000   \n",
       "Payment_status_in_Aug2005                     0.672164   \n",
       "Payment_status_in_July2005                    0.574245   \n",
       "Payment_status_in_June2005                    0.538841   \n",
       "Payment_status_in_May2005                     0.509426   \n",
       "Payment_status_in_April2005                   0.474553   \n",
       "Bill_stat_in_Sep2005                          0.187068   \n",
       "Bill_stat_in_Aug2005                          0.189859   \n",
       "Bill_stat_in_July2005                         0.179785   \n",
       "Bill_stat_in_June2005                         0.179125   \n",
       "Bill_stat_in_May2005                          0.180635   \n",
       "Bill_stat_in_Apr2005                          0.176980   \n",
       "Amount_paid_inSep2005                        -0.079269   \n",
       "Amount_paid_inAug2005                        -0.070101   \n",
       "Amount_paid_inJuly2005                       -0.070561   \n",
       "Amount_paid_inJune2005                       -0.064005   \n",
       "Amount_paid_inMay2005                        -0.058190   \n",
       "Amount_paid_inApril2005                      -0.058673   \n",
       "default payment next month                    0.324794   \n",
       "\n",
       "                             Payment_status_in_Aug2005  \\\n",
       "ID                                           -0.011215   \n",
       "Credit_limit                                 -0.296382   \n",
       "Gender                                       -0.070771   \n",
       "Education                                     0.129703   \n",
       "Marital_status                                0.023620   \n",
       "Age_in_years                                 -0.050148   \n",
       "Payment_status_in_Sep2005                     0.672164   \n",
       "Payment_status_in_Aug2005                     1.000000   \n",
       "Payment_status_in_July2005                    0.766552   \n",
       "Payment_status_in_June2005                    0.662067   \n",
       "Payment_status_in_May2005                     0.622780   \n",
       "Payment_status_in_April2005                   0.575501   \n",
       "Bill_stat_in_Sep2005                          0.234887   \n",
       "Bill_stat_in_Aug2005                          0.235257   \n",
       "Bill_stat_in_July2005                         0.224146   \n",
       "Bill_stat_in_June2005                         0.222237   \n",
       "Bill_stat_in_May2005                          0.221348   \n",
       "Bill_stat_in_Apr2005                          0.219403   \n",
       "Amount_paid_inSep2005                        -0.080701   \n",
       "Amount_paid_inAug2005                        -0.058990   \n",
       "Amount_paid_inJuly2005                       -0.055901   \n",
       "Amount_paid_inJune2005                       -0.046858   \n",
       "Amount_paid_inMay2005                        -0.037093   \n",
       "Amount_paid_inApril2005                      -0.036500   \n",
       "default payment next month                    0.263551   \n",
       "\n",
       "                             Payment_status_in_July2005  \\\n",
       "ID                                            -0.018494   \n",
       "Credit_limit                                  -0.286123   \n",
       "Gender                                        -0.066096   \n",
       "Education                                      0.122425   \n",
       "Marital_status                                 0.032399   \n",
       "Age_in_years                                  -0.053048   \n",
       "Payment_status_in_Sep2005                      0.574245   \n",
       "Payment_status_in_Aug2005                      0.766552   \n",
       "Payment_status_in_July2005                     1.000000   \n",
       "Payment_status_in_June2005                     0.777359   \n",
       "Payment_status_in_May2005                      0.686775   \n",
       "Payment_status_in_April2005                    0.632684   \n",
       "Bill_stat_in_Sep2005                           0.208473   \n",
       "Bill_stat_in_Aug2005                           0.237295   \n",
       "Bill_stat_in_July2005                          0.227494   \n",
       "Bill_stat_in_June2005                          0.227202   \n",
       "Bill_stat_in_May2005                           0.225145   \n",
       "Bill_stat_in_Apr2005                           0.222327   \n",
       "Amount_paid_inSep2005                          0.001295   \n",
       "Amount_paid_inAug2005                         -0.066793   \n",
       "Amount_paid_inJuly2005                        -0.053311   \n",
       "Amount_paid_inJune2005                        -0.046067   \n",
       "Amount_paid_inMay2005                         -0.035863   \n",
       "Amount_paid_inApril2005                       -0.035861   \n",
       "default payment next month                     0.235253   \n",
       "\n",
       "                             Payment_status_in_June2005  \\\n",
       "ID                                            -0.002735   \n",
       "Credit_limit                                  -0.267460   \n",
       "Gender                                        -0.060173   \n",
       "Education                                      0.116531   \n",
       "Marital_status                                 0.031831   \n",
       "Age_in_years                                  -0.049722   \n",
       "Payment_status_in_Sep2005                      0.538841   \n",
       "Payment_status_in_Aug2005                      0.662067   \n",
       "Payment_status_in_July2005                     0.777359   \n",
       "Payment_status_in_June2005                     1.000000   \n",
       "Payment_status_in_May2005                      0.819835   \n",
       "Payment_status_in_April2005                    0.716449   \n",
       "Bill_stat_in_Sep2005                           0.202812   \n",
       "Bill_stat_in_Aug2005                           0.225816   \n",
       "Bill_stat_in_July2005                          0.244983   \n",
       "Bill_stat_in_June2005                          0.245917   \n",
       "Bill_stat_in_May2005                           0.242902   \n",
       "Bill_stat_in_Apr2005                           0.239154   \n",
       "Amount_paid_inSep2005                         -0.009362   \n",
       "Amount_paid_inAug2005                         -0.001944   \n",
       "Amount_paid_inJuly2005                        -0.069235   \n",
       "Amount_paid_inJune2005                        -0.043461   \n",
       "Amount_paid_inMay2005                         -0.033590   \n",
       "Amount_paid_inApril2005                       -0.026565   \n",
       "default payment next month                     0.216614   \n",
       "\n",
       "                                        ...              \\\n",
       "ID                                      ...               \n",
       "Credit_limit                            ...               \n",
       "Gender                                  ...               \n",
       "Education                               ...               \n",
       "Marital_status                          ...               \n",
       "Age_in_years                            ...               \n",
       "Payment_status_in_Sep2005               ...               \n",
       "Payment_status_in_Aug2005               ...               \n",
       "Payment_status_in_July2005              ...               \n",
       "Payment_status_in_June2005              ...               \n",
       "Payment_status_in_May2005               ...               \n",
       "Payment_status_in_April2005             ...               \n",
       "Bill_stat_in_Sep2005                    ...               \n",
       "Bill_stat_in_Aug2005                    ...               \n",
       "Bill_stat_in_July2005                   ...               \n",
       "Bill_stat_in_June2005                   ...               \n",
       "Bill_stat_in_May2005                    ...               \n",
       "Bill_stat_in_Apr2005                    ...               \n",
       "Amount_paid_inSep2005                   ...               \n",
       "Amount_paid_inAug2005                   ...               \n",
       "Amount_paid_inJuly2005                  ...               \n",
       "Amount_paid_inJune2005                  ...               \n",
       "Amount_paid_inMay2005                   ...               \n",
       "Amount_paid_inApril2005                 ...               \n",
       "default payment next month              ...               \n",
       "\n",
       "                             Bill_stat_in_June2005  Bill_stat_in_May2005  \\\n",
       "ID                                        0.040351              0.016705   \n",
       "Credit_limit                              0.293988              0.295562   \n",
       "Gender                                   -0.021880             -0.017005   \n",
       "Education                                -0.006131             -0.012439   \n",
       "Marital_status                           -0.027274             -0.029270   \n",
       "Age_in_years                              0.051353              0.049345   \n",
       "Payment_status_in_Sep2005                 0.179125              0.180635   \n",
       "Payment_status_in_Aug2005                 0.222237              0.221348   \n",
       "Payment_status_in_July2005                0.227202              0.225145   \n",
       "Payment_status_in_June2005                0.245917              0.242902   \n",
       "Payment_status_in_May2005                 0.271915              0.269783   \n",
       "Payment_status_in_April2005               0.266356              0.290894   \n",
       "Bill_stat_in_Sep2005                      0.860272              0.829779   \n",
       "Bill_stat_in_Aug2005                      0.892482              0.859778   \n",
       "Bill_stat_in_July2005                     0.923969              0.883910   \n",
       "Bill_stat_in_June2005                     1.000000              0.940134   \n",
       "Bill_stat_in_May2005                      0.940134              1.000000   \n",
       "Bill_stat_in_Apr2005                      0.900941              0.946197   \n",
       "Amount_paid_inSep2005                     0.233012              0.217031   \n",
       "Amount_paid_inAug2005                     0.207564              0.181246   \n",
       "Amount_paid_inJuly2005                    0.300023              0.252305   \n",
       "Amount_paid_inJune2005                    0.130191              0.293118   \n",
       "Amount_paid_inMay2005                     0.160433              0.141574   \n",
       "Amount_paid_inApril2005                   0.177637              0.164184   \n",
       "default payment next month               -0.010156             -0.006760   \n",
       "\n",
       "                             Bill_stat_in_Apr2005  Amount_paid_inSep2005  \\\n",
       "ID                                       0.016730               0.009742   \n",
       "Credit_limit                             0.290389               0.195236   \n",
       "Gender                                  -0.016733              -0.000242   \n",
       "Education                               -0.012646              -0.041088   \n",
       "Marital_status                          -0.025066              -0.004653   \n",
       "Age_in_years                             0.047613               0.026147   \n",
       "Payment_status_in_Sep2005                0.176980              -0.079269   \n",
       "Payment_status_in_Aug2005                0.219403              -0.080701   \n",
       "Payment_status_in_July2005               0.222327               0.001295   \n",
       "Payment_status_in_June2005               0.239154              -0.009362   \n",
       "Payment_status_in_May2005                0.262509              -0.006089   \n",
       "Payment_status_in_April2005              0.285091              -0.001496   \n",
       "Bill_stat_in_Sep2005                     0.802650               0.140277   \n",
       "Bill_stat_in_Aug2005                     0.831594               0.280365   \n",
       "Bill_stat_in_July2005                    0.853320               0.244335   \n",
       "Bill_stat_in_June2005                    0.900941               0.233012   \n",
       "Bill_stat_in_May2005                     0.946197               0.217031   \n",
       "Bill_stat_in_Apr2005                     1.000000               0.199965   \n",
       "Amount_paid_inSep2005                    0.199965               1.000000   \n",
       "Amount_paid_inAug2005                    0.172663               0.285576   \n",
       "Amount_paid_inJuly2005                   0.233770               0.252191   \n",
       "Amount_paid_inJune2005                   0.250237               0.199558   \n",
       "Amount_paid_inMay2005                    0.307729               0.148459   \n",
       "Amount_paid_inApril2005                  0.115494               0.185735   \n",
       "default payment next month              -0.005372              -0.072929   \n",
       "\n",
       "                             Amount_paid_inAug2005  Amount_paid_inJuly2005  \\\n",
       "ID                                        0.008406                0.039151   \n",
       "Credit_limit                              0.178408                0.210167   \n",
       "Gender                                   -0.001391               -0.008597   \n",
       "Education                                -0.032793               -0.044293   \n",
       "Marital_status                           -0.009513               -0.004250   \n",
       "Age_in_years                              0.021785                0.029247   \n",
       "Payment_status_in_Sep2005                -0.070101               -0.070561   \n",
       "Payment_status_in_Aug2005                -0.058990               -0.055901   \n",
       "Payment_status_in_July2005               -0.066793               -0.053311   \n",
       "Payment_status_in_June2005               -0.001944               -0.069235   \n",
       "Payment_status_in_May2005                -0.003191                0.009062   \n",
       "Payment_status_in_April2005              -0.005223                0.005834   \n",
       "Bill_stat_in_Sep2005                      0.099355                0.156887   \n",
       "Bill_stat_in_Aug2005                      0.100851                0.150718   \n",
       "Bill_stat_in_July2005                     0.316936                0.130011   \n",
       "Bill_stat_in_June2005                     0.207564                0.300023   \n",
       "Bill_stat_in_May2005                      0.181246                0.252305   \n",
       "Bill_stat_in_Apr2005                      0.172663                0.233770   \n",
       "Amount_paid_inSep2005                     0.285576                0.252191   \n",
       "Amount_paid_inAug2005                     1.000000                0.244770   \n",
       "Amount_paid_inJuly2005                    0.244770                1.000000   \n",
       "Amount_paid_inJune2005                    0.180107                0.216325   \n",
       "Amount_paid_inMay2005                     0.180908                0.159214   \n",
       "Amount_paid_inApril2005                   0.157634                0.162740   \n",
       "default payment next month               -0.058579               -0.056250   \n",
       "\n",
       "                             Amount_paid_inJune2005  Amount_paid_inMay2005  \\\n",
       "ID                                         0.007793               0.000652   \n",
       "Credit_limit                               0.203242               0.217202   \n",
       "Gender                                    -0.002229              -0.001667   \n",
       "Education                                 -0.040949              -0.045138   \n",
       "Marital_status                            -0.013970              -0.003019   \n",
       "Age_in_years                               0.021379               0.022850   \n",
       "Payment_status_in_Sep2005                 -0.064005              -0.058190   \n",
       "Payment_status_in_Aug2005                 -0.046858              -0.037093   \n",
       "Payment_status_in_July2005                -0.046067              -0.035863   \n",
       "Payment_status_in_June2005                -0.043461              -0.033590   \n",
       "Payment_status_in_May2005                 -0.058299              -0.033337   \n",
       "Payment_status_in_April2005                0.019018              -0.046434   \n",
       "Bill_stat_in_Sep2005                       0.158303               0.167026   \n",
       "Bill_stat_in_Aug2005                       0.147398               0.157957   \n",
       "Bill_stat_in_July2005                      0.143405               0.179712   \n",
       "Bill_stat_in_June2005                      0.130191               0.160433   \n",
       "Bill_stat_in_May2005                       0.293118               0.141574   \n",
       "Bill_stat_in_Apr2005                       0.250237               0.307729   \n",
       "Amount_paid_inSep2005                      0.199558               0.148459   \n",
       "Amount_paid_inAug2005                      0.180107               0.180908   \n",
       "Amount_paid_inJuly2005                     0.216325               0.159214   \n",
       "Amount_paid_inJune2005                     1.000000               0.151830   \n",
       "Amount_paid_inMay2005                      0.151830               1.000000   \n",
       "Amount_paid_inApril2005                    0.157834               0.154896   \n",
       "default payment next month                -0.056827              -0.055124   \n",
       "\n",
       "                             Amount_paid_inApril2005  \\\n",
       "ID                                          0.003000   \n",
       "Credit_limit                                0.219595   \n",
       "Gender                                     -0.002766   \n",
       "Education                                  -0.044061   \n",
       "Marital_status                             -0.008383   \n",
       "Age_in_years                                0.019478   \n",
       "Payment_status_in_Sep2005                  -0.058673   \n",
       "Payment_status_in_Aug2005                  -0.036500   \n",
       "Payment_status_in_July2005                 -0.035861   \n",
       "Payment_status_in_June2005                 -0.026565   \n",
       "Payment_status_in_May2005                  -0.023027   \n",
       "Payment_status_in_April2005                -0.025299   \n",
       "Bill_stat_in_Sep2005                        0.179341   \n",
       "Bill_stat_in_Aug2005                        0.174256   \n",
       "Bill_stat_in_July2005                       0.182326   \n",
       "Bill_stat_in_June2005                       0.177637   \n",
       "Bill_stat_in_May2005                        0.164184   \n",
       "Bill_stat_in_Apr2005                        0.115494   \n",
       "Amount_paid_inSep2005                       0.185735   \n",
       "Amount_paid_inAug2005                       0.157634   \n",
       "Amount_paid_inJuly2005                      0.162740   \n",
       "Amount_paid_inJune2005                      0.157834   \n",
       "Amount_paid_inMay2005                       0.154896   \n",
       "Amount_paid_inApril2005                     1.000000   \n",
       "default payment next month                 -0.053183   \n",
       "\n",
       "                             default payment next month  \n",
       "ID                                            -0.013952  \n",
       "Credit_limit                                  -0.153520  \n",
       "Gender                                        -0.039961  \n",
       "Education                                      0.033842  \n",
       "Marital_status                                -0.027575  \n",
       "Age_in_years                                   0.013890  \n",
       "Payment_status_in_Sep2005                      0.324794  \n",
       "Payment_status_in_Aug2005                      0.263551  \n",
       "Payment_status_in_July2005                     0.235253  \n",
       "Payment_status_in_June2005                     0.216614  \n",
       "Payment_status_in_May2005                      0.204149  \n",
       "Payment_status_in_April2005                    0.186866  \n",
       "Bill_stat_in_Sep2005                          -0.019644  \n",
       "Bill_stat_in_Aug2005                          -0.014193  \n",
       "Bill_stat_in_July2005                         -0.014076  \n",
       "Bill_stat_in_June2005                         -0.010156  \n",
       "Bill_stat_in_May2005                          -0.006760  \n",
       "Bill_stat_in_Apr2005                          -0.005372  \n",
       "Amount_paid_inSep2005                         -0.072929  \n",
       "Amount_paid_inAug2005                         -0.058579  \n",
       "Amount_paid_inJuly2005                        -0.056250  \n",
       "Amount_paid_inJune2005                        -0.056827  \n",
       "Amount_paid_inMay2005                         -0.055124  \n",
       "Amount_paid_inApril2005                       -0.053183  \n",
       "default payment next month                     1.000000  \n",
       "\n",
       "[25 rows x 25 columns]"
      ]
     },
     "execution_count": 20,
     "metadata": {},
     "output_type": "execute_result"
    }
   ],
   "source": [
    "corr=Credit.corr()\n",
    "corr.transpose()"
   ]
  },
  {
   "cell_type": "code",
   "execution_count": 21,
   "metadata": {},
   "outputs": [],
   "source": [
    "mask=np.zeros_like(corr,dtype=np.bool)\n",
    "mask[np.triu_indices_from(mask)]=True"
   ]
  },
  {
   "cell_type": "code",
   "execution_count": 22,
   "metadata": {},
   "outputs": [
    {
     "data": {
      "image/png": "[encoded data removed]",
      "text/plain": [
       "<Figure size 1440x720 with 2 Axes>"
      ]
     },
     "metadata": {
      "needs_background": "light"
     },
     "output_type": "display_data"
    }
   ],
   "source": [
    "plt.figure(figsize=(20, 10))\n",
    "\n",
    "with sb.axes_style(\"dark\"):\n",
    "    a=sb.heatmap(corr,mask=mask,vmax=0.7,square=True,cmap=\"YlGnBu\")"
   ]
  },
  {
   "cell_type": "code",
   "execution_count": 23,
   "metadata": {},
   "outputs": [],
   "source": [
    "customap=sb.diverging_palette(220,10,as_cmap=True)"
   ]
  },
  {
   "cell_type": "code",
   "execution_count": 24,
   "metadata": {},
   "outputs": [
    {
     "data": {
      "text/plain": [
       "<matplotlib.axes._subplots.AxesSubplot at 0xd27d898>"
      ]
     },
     "execution_count": 24,
     "metadata": {},
     "output_type": "execute_result"
    },
    {
     "data": {
      "image/png": "[encoded data removed]",
      "text/plain": [
       "<Figure size 1440x720 with 2 Axes>"
      ]
     },
     "metadata": {
      "needs_background": "light"
     },
     "output_type": "display_data"
    }
   ],
   "source": [
    "plt.figure(figsize=(20, 10))\n",
    "\n",
    "sb.heatmap(corr,mask=mask,cmap=customap,vmax=0.8,center=0,square=True,linewidth=0.4,cbar_kws={\"shrink\": 0.9})"
   ]
  },
  {
   "cell_type": "markdown",
   "metadata": {},
   "source": [
    "# Lets start Machine learning"
   ]
  },
  {
   "cell_type": "markdown",
   "metadata": {},
   "source": [
    "### Check which features are important\n"
   ]
  },
  {
   "cell_type": "code",
   "execution_count": 27,
   "metadata": {},
   "outputs": [
    {
     "name": "stderr",
     "output_type": "stream",
     "text": [
      "C:\\Users\\pruthvi\\Anaconda3\\envs\\tfpy36gpu\\lib\\site-packages\\sklearn\\ensemble\\forest.py:246: FutureWarning: The default value of n_estimators will change from 10 in version 0.20 to 100 in 0.22.\n",
      "  \"10 in version 0.20 to 100 in 0.22.\", FutureWarning)\n"
     ]
    }
   ],
   "source": [
    "from sklearn.ensemble import ExtraTreesClassifier\n",
    "from sklearn.datasets import load_iris\n",
    "from sklearn.feature_selection import SelectFromModel\n",
    "X = Credit.drop('default payment next month',axis=1)\n",
    "Y = Credit['default payment next month']\n",
    "clf = ExtraTreesClassifier()\n",
    "clf = clf.fit(X, Y)\n"
   ]
  },
  {
   "cell_type": "markdown",
   "metadata": {},
   "source": [
    "### Feature Scaling"
   ]
  },
  {
   "cell_type": "code",
   "execution_count": 28,
   "metadata": {},
   "outputs": [
    {
     "name": "stderr",
     "output_type": "stream",
     "text": [
      "C:\\Users\\pruthvi\\Anaconda3\\envs\\tfpy36gpu\\lib\\site-packages\\sklearn\\preprocessing\\data.py:334: DataConversionWarning: Data with input dtype int64 were all converted to float64 by MinMaxScaler.\n",
      "  return self.partial_fit(X, y)\n"
     ]
    },
    {
     "data": {
      "text/plain": [
       "array([[0.00000000e+00, 1.01010101e-02, 1.00000000e+00, ...,\n",
       "        0.00000000e+00, 0.00000000e+00, 1.00000000e+00],\n",
       "       [3.33344445e-05, 1.11111111e-01, 1.00000000e+00, ...,\n",
       "        0.00000000e+00, 3.78310691e-03, 1.00000000e+00],\n",
       "       [6.66688890e-05, 8.08080808e-02, 1.00000000e+00, ...,\n",
       "        2.34450647e-03, 9.45776729e-03, 0.00000000e+00],\n",
       "       ...,\n",
       "       [9.99933331e-01, 2.02020202e-02, 0.00000000e+00, ...,\n",
       "        4.68901294e-03, 5.86381572e-03, 1.00000000e+00],\n",
       "       [9.99966666e-01, 7.07070707e-02, 0.00000000e+00, ...,\n",
       "        1.24174441e-01, 3.41236244e-03, 1.00000000e+00],\n",
       "       [1.00000000e+00, 4.04040404e-02, 0.00000000e+00, ...,\n",
       "        2.34450647e-03, 1.89155346e-03, 1.00000000e+00]])"
      ]
     },
     "execution_count": 28,
     "metadata": {},
     "output_type": "execute_result"
    }
   ],
   "source": [
    "from sklearn.preprocessing import MinMaxScaler\n",
    "\n",
    "scaler = MinMaxScaler()\n",
    "scaler.fit_transform(Credit)\n",
    "\n"
   ]
  },
  {
   "cell_type": "markdown",
   "metadata": {},
   "source": [
    "### Split the data in to train and test\n"
   ]
  },
  {
   "cell_type": "code",
   "execution_count": 29,
   "metadata": {},
   "outputs": [],
   "source": [
    "from sklearn.model_selection import train_test_split\n",
    "\n",
    "train, test = train_test_split(Credit, test_size = 0.3)\n",
    "\n",
    "X_train = train.drop('default payment next month',axis=1)\n",
    "\n",
    "y_train = train['default payment next month']\n",
    "\n",
    "X_test =  test.drop('default payment next month',axis=1)\n",
    "\n",
    "y_test = test['default payment next month']"
   ]
  },
  {
   "cell_type": "markdown",
   "metadata": {},
   "source": [
    "### Train benchmark model(Log Regression)"
   ]
  },
  {
   "cell_type": "code",
   "execution_count": 30,
   "metadata": {},
   "outputs": [
    {
     "name": "stderr",
     "output_type": "stream",
     "text": [
      "C:\\Users\\pruthvi\\Anaconda3\\envs\\tfpy36gpu\\lib\\site-packages\\sklearn\\linear_model\\logistic.py:433: FutureWarning: Default solver will be changed to 'lbfgs' in 0.22. Specify a solver to silence this warning.\n",
      "  FutureWarning)\n"
     ]
    },
    {
     "name": "stdout",
     "output_type": "stream",
     "text": [
      "accuracy: 0.7765555555555556\n",
      "Precision: 0.6031918361299404\n",
      "Recall: 0.7765555555555556\n",
      "f1_score: 0.6789822169408135\n"
     ]
    }
   ],
   "source": [
    "\n",
    "from sklearn.linear_model import LogisticRegression\n",
    "clf0 = LogisticRegression(random_state=10)\n",
    "clf0.fit(X_train, y_train)\n",
    "\n",
    "from sklearn.metrics import accuracy_score\n",
    "from sklearn.metrics import recall_score\n",
    "from sklearn.metrics import precision_score\n",
    "from sklearn.metrics import f1_score\n",
    "y_pred = clf0.predict(X_test)\n",
    "accuracy_regr=accuracy_score(y_test, y_pred)\n",
    "precision_regr=precision_score(y_test, y_pred,average='weighted')\n",
    "recall_regr=recall_score(y_test, y_pred,average='weighted')\n",
    "f1_regr=f1_score(y_test,y_pred,average='weighted')\n",
    "print(\"accuracy:\", accuracy_regr)\n",
    "print(\"Precision:\", precision_regr)\n",
    "print(\"Recall:\", recall_regr)\n",
    "print('f1_score:',f1_regr)"
   ]
  },
  {
   "cell_type": "markdown",
   "metadata": {},
   "source": [
    "### Train random forest"
   ]
  },
  {
   "cell_type": "code",
   "execution_count": 31,
   "metadata": {},
   "outputs": [
    {
     "name": "stderr",
     "output_type": "stream",
     "text": [
      "C:\\Users\\pruthvi\\Anaconda3\\envs\\tfpy36gpu\\lib\\site-packages\\sklearn\\ensemble\\forest.py:246: FutureWarning: The default value of n_estimators will change from 10 in version 0.20 to 100 in 0.22.\n",
      "  \"10 in version 0.20 to 100 in 0.22.\", FutureWarning)\n"
     ]
    },
    {
     "name": "stdout",
     "output_type": "stream",
     "text": [
      "accuracy: 0.8087777777777778\n",
      "Precision: 0.78804292085283\n",
      "Recall: 0.8087777777777778\n",
      "f1_score: 0.7837536540555513\n"
     ]
    }
   ],
   "source": [
    "from sklearn.ensemble import RandomForestClassifier\n",
    "clf1=RandomForestClassifier(random_state=10)\n",
    "clf1.fit(X_train,y_train)\n",
    "\n",
    "y_pred1 = clf1.predict(X_test)\n",
    "accuracy_rf=accuracy_score(y_test, y_pred1)\n",
    "precision_rf=precision_score(y_test, y_pred1,average='weighted')\n",
    "recall_rf=recall_score(y_test, y_pred1,average='weighted')\n",
    "f1_rf=f1_score(y_test,y_pred1,average='weighted')\n",
    "print(\"accuracy:\", accuracy_rf)\n",
    "print(\"Precision:\", precision_rf)\n",
    "print(\"Recall:\", recall_rf)\n",
    "print('f1_score:',f1_rf)"
   ]
  },
  {
   "cell_type": "markdown",
   "metadata": {},
   "source": [
    "### Train Gradeint boost"
   ]
  },
  {
   "cell_type": "code",
   "execution_count": 72,
   "metadata": {},
   "outputs": [
    {
     "name": "stdout",
     "output_type": "stream",
     "text": [
      "accuracy: 0.8206666666666667\n",
      "Precision: 0.8045696012134591\n",
      "Recall: 0.8206666666666667\n",
      "f1_score: 0.7990793684581777\n"
     ]
    }
   ],
   "source": [
    "\n",
    "from sklearn.ensemble import GradientBoostingClassifier\n",
    "clf2=GradientBoostingClassifier(random_state=10)\n",
    "clf2.fit(X_train,y_train)\n",
    "\n",
    "y_pred2 = clf2.predict(X_test)\n",
    "accuracy_gb=accuracy_score(y_test, y_pred2)\n",
    "precision_gb=precision_score(y_test, y_pred2,average='weighted')\n",
    "recall_gb=recall_score(y_test, y_pred2,average='weighted')\n",
    "f1_gb=f1_score(y_test,y_pred2,average='weighted')\n",
    "print(\"accuracy:\", accuracy_gb)\n",
    "print(\"Precision:\", precision_gb)\n",
    "print(\"Recall:\", recall_gb)\n",
    "print('f1_score:',f1_gb)\n",
    "\n"
   ]
  },
  {
   "cell_type": "markdown",
   "metadata": {},
   "source": [
    "### Train Adaboost boost"
   ]
  },
  {
   "cell_type": "code",
   "execution_count": 73,
   "metadata": {},
   "outputs": [
    {
     "name": "stdout",
     "output_type": "stream",
     "text": [
      "accuracy: 0.815\n",
      "Precision: 0.797732239979918\n",
      "Recall: 0.815\n",
      "f1_score: 0.7874669051939042\n"
     ]
    }
   ],
   "source": [
    "\n",
    "from sklearn.ensemble import AdaBoostClassifier\n",
    "clf3 = AdaBoostClassifier(random_state=10)\n",
    "clf3.fit(X_train, y_train)\n",
    "\n",
    "y_pred3 = clf3.predict(X_test)\n",
    "accuracy_ab=accuracy_score(y_test, y_pred3)\n",
    "precision_ab=precision_score(y_test, y_pred3,average='weighted')\n",
    "recall_ab=recall_score(y_test, y_pred3,average='weighted')\n",
    "f1_ab=f1_score(y_test,y_pred3,average='weighted')\n",
    "print(\"accuracy:\", accuracy_ab)\n",
    "print(\"Precision:\", precision_ab)\n",
    "print(\"Recall:\", recall_ab)\n",
    "print('f1_score:',f1_ab)\n"
   ]
  },
  {
   "cell_type": "markdown",
   "metadata": {},
   "source": [
    "### Train Voting classifier"
   ]
  },
  {
   "cell_type": "code",
   "execution_count": 74,
   "metadata": {},
   "outputs": [
    {
     "name": "stdout",
     "output_type": "stream",
     "text": [
      "accuracy: 0.8186666666666667\n",
      "Precision: 0.8023979117012825\n",
      "Recall: 0.8186666666666667\n",
      "f1_score: 0.7940053333333333\n"
     ]
    }
   ],
   "source": [
    "from sklearn.ensemble import VotingClassifier\n",
    "clf4 = VotingClassifier(estimators=[('rf',clf1),('gb', clf2),('ab',clf3)])\n",
    "clf4.fit(X_train,y_train)\n",
    "\n",
    "y_pred4 = clf4.predict(X_test)\n",
    "accuracy_vc=accuracy_score(y_test, y_pred4)\n",
    "precision_vc=precision_score(y_test, y_pred4,average='weighted')\n",
    "recall_vc=recall_score(y_test, y_pred4,average='weighted')\n",
    "f1_vc=f1_score(y_test,y_pred4,average='weighted')\n",
    "print(\"accuracy:\", accuracy_vc)\n",
    "print(\"Precision:\", precision_vc)\n",
    "print(\"Recall:\", recall_vc)\n",
    "print('f1_score:',f1_vc)"
   ]
  },
  {
   "cell_type": "markdown",
   "metadata": {},
   "source": [
    "### Train Deep learning -- Feed forward network"
   ]
  },
  {
   "cell_type": "code",
   "execution_count": 75,
   "metadata": {},
   "outputs": [],
   "source": [
    "from keras.models import Sequential\n",
    "from keras.layers import Dense\n",
    "from keras.layers import Activation\n",
    "from keras.layers.core import Dropout\n",
    "from keras import optimizers\n",
    "import tensorflow as tf\n",
    "seed=10\n",
    "np.random.seed(seed)\n",
    "tf.set_random_seed(seed)\n"
   ]
  },
  {
   "cell_type": "code",
   "execution_count": 76,
   "metadata": {},
   "outputs": [],
   "source": [
    "Credit_DL = Credit.drop([\"ID\"],axis=1)\n",
    "\n",
    "X_train_DL = X_train.drop([\"ID\"],axis=1)\n",
    "X_test_DL = X_test.drop([\"ID\"],axis=1)\n"
   ]
  },
  {
   "cell_type": "code",
   "execution_count": 77,
   "metadata": {},
   "outputs": [
    {
     "name": "stdout",
     "output_type": "stream",
     "text": [
      "Train on 21000 samples, validate on 9000 samples\n",
      "Epoch 1/10\n",
      "21000/21000 [==============================] - 2s 101us/step - loss: 3.5708 - acc: 0.7784 - val_loss: 3.5997 - val_acc: 0.7767\n",
      "Epoch 2/10\n",
      "21000/21000 [==============================] - 2s 84us/step - loss: 3.5506 - acc: 0.7797 - val_loss: 3.5997 - val_acc: 0.7767\n",
      "Epoch 3/10\n",
      "21000/21000 [==============================] - 2s 84us/step - loss: 3.5506 - acc: 0.7797 - val_loss: 3.5997 - val_acc: 0.7767\n",
      "Epoch 4/10\n",
      "21000/21000 [==============================] - 1s 68us/step - loss: 3.5506 - acc: 0.7797 - val_loss: 3.5997 - val_acc: 0.7767\n",
      "Epoch 5/10\n",
      "21000/21000 [==============================] - 2s 74us/step - loss: 3.5506 - acc: 0.7797 - val_loss: 3.5997 - val_acc: 0.7767\n",
      "Epoch 6/10\n",
      "21000/21000 [==============================] - 2s 76us/step - loss: 3.5506 - acc: 0.7797 - val_loss: 3.5997 - val_acc: 0.7767\n",
      "Epoch 7/10\n",
      "21000/21000 [==============================] - 1s 69us/step - loss: 3.5506 - acc: 0.7797 - val_loss: 3.5997 - val_acc: 0.7767\n",
      "Epoch 8/10\n",
      "21000/21000 [==============================] - 2s 73us/step - loss: 3.5506 - acc: 0.7797 - val_loss: 3.5997 - val_acc: 0.7767\n",
      "Epoch 9/10\n",
      "21000/21000 [==============================] - 2s 99us/step - loss: 3.5506 - acc: 0.7797 - val_loss: 3.5997 - val_acc: 0.7767\n",
      "Epoch 10/10\n",
      "21000/21000 [==============================] - 2s 79us/step - loss: 3.5506 - acc: 0.7797 - val_loss: 3.5997 - val_acc: 0.7767\n"
     ]
    },
    {
     "data": {
      "text/plain": [
       "<keras.callbacks.History at 0x578a3dd8>"
      ]
     },
     "execution_count": 77,
     "metadata": {},
     "output_type": "execute_result"
    }
   ],
   "source": [
    "model = Sequential()\n",
    "sgd = optimizers.SGD(lr=0.01, decay=1e-6)\n",
    "#Training Feed Forward Neural network.\n",
    "model.add(Dense(128, input_dim=(23), activation='relu'))\n",
    "model.add(Dense(64, activation='relu'))\n",
    "model.add(Dense(32, activation='relu'))\n",
    "model.add(Dense(32, activation='relu'))\n",
    "model.add(Dense(16, activation='relu'))\n",
    "model.add(Dense(8, activation='relu'))\n",
    "model.add(Dense(4, activation='relu'))\n",
    "\n",
    "model.add(Dense(1,  activation='sigmoid'))\n",
    "model.compile(loss='binary_crossentropy', optimizer= sgd, metrics=['accuracy'])\n",
    "model.fit(np.array(X_train_DL), np.array(y_train), batch_size=100,validation_data=(np.array(X_test_DL),np.array(y_test)), epochs=10,verbose=1)"
   ]
  },
  {
   "cell_type": "code",
   "execution_count": 78,
   "metadata": {},
   "outputs": [
    {
     "name": "stdout",
     "output_type": "stream",
     "text": [
      "9000/9000 [==============================] - 0s 54us/step\n",
      "accuracy_DL: 0.7766666666666666\n",
      "Precision_DL: 0.603211111111111\n",
      "Recall_DL: 0.7766666666666666\n",
      "f1_score_DL: 0.6790368980612883\n"
     ]
    }
   ],
   "source": [
    "model.evaluate(np.array(X_test_DL),np.array(y_test))\n",
    "y_pred_DL=model.predict(np.array(X_test_DL))\n",
    "\n",
    "accuracy_DL=accuracy_score(y_test, y_pred_DL)\n",
    "precision_DL=precision_score(y_test, y_pred_DL.round(), average='weighted')\n",
    "recall_DL=recall_score(y_test, y_pred_DL.round(), average='weighted')\n",
    "F1_DL=f1_score(y_test,y_pred_DL,average='weighted')\n",
    "\n",
    "print(\"accuracy_DL:\", accuracy_DL)\n",
    "print(\"Precision_DL:\", precision_DL)\n",
    "print(\"Recall_DL:\", recall_DL)\n",
    "print('f1_score_DL:',F1_DL)"
   ]
  },
  {
   "cell_type": "code",
   "execution_count": 79,
   "metadata": {},
   "outputs": [
    {
     "data": {
      "text/html": [
       "<div>\n",
       "<style scoped>\n",
       "    .dataframe tbody tr th:only-of-type {\n",
       "        vertical-align: middle;\n",
       "    }\n",
       "\n",
       "    .dataframe tbody tr th {\n",
       "        vertical-align: top;\n",
       "    }\n",
       "\n",
       "    .dataframe thead th {\n",
       "        text-align: right;\n",
       "    }\n",
       "</style>\n",
       "<table border=\"1\" class=\"dataframe\">\n",
       "  <thead>\n",
       "    <tr style=\"text-align: right;\">\n",
       "      <th></th>\n",
       "      <th>Classifiers</th>\n",
       "      <th>accuracy</th>\n",
       "      <th>precision</th>\n",
       "      <th>recall</th>\n",
       "      <th>Fscore</th>\n",
       "    </tr>\n",
       "  </thead>\n",
       "  <tbody>\n",
       "    <tr>\n",
       "      <th>0</th>\n",
       "      <td>Logistic_regression</td>\n",
       "      <td>0.776556</td>\n",
       "      <td>0.603192</td>\n",
       "      <td>0.776556</td>\n",
       "      <td>0.678982</td>\n",
       "    </tr>\n",
       "    <tr>\n",
       "      <th>1</th>\n",
       "      <td>Random_forest</td>\n",
       "      <td>0.808778</td>\n",
       "      <td>0.788043</td>\n",
       "      <td>0.808778</td>\n",
       "      <td>0.783754</td>\n",
       "    </tr>\n",
       "    <tr>\n",
       "      <th>2</th>\n",
       "      <td>Gradient_boosting</td>\n",
       "      <td>0.820667</td>\n",
       "      <td>0.804570</td>\n",
       "      <td>0.820667</td>\n",
       "      <td>0.799079</td>\n",
       "    </tr>\n",
       "    <tr>\n",
       "      <th>3</th>\n",
       "      <td>AdaBoost</td>\n",
       "      <td>0.815000</td>\n",
       "      <td>0.797732</td>\n",
       "      <td>0.815000</td>\n",
       "      <td>0.787467</td>\n",
       "    </tr>\n",
       "    <tr>\n",
       "      <th>4</th>\n",
       "      <td>Voting_classifier</td>\n",
       "      <td>0.818667</td>\n",
       "      <td>0.802398</td>\n",
       "      <td>0.818667</td>\n",
       "      <td>0.794005</td>\n",
       "    </tr>\n",
       "    <tr>\n",
       "      <th>5</th>\n",
       "      <td>Deep learning_Feed_forward</td>\n",
       "      <td>0.776667</td>\n",
       "      <td>0.603211</td>\n",
       "      <td>0.776667</td>\n",
       "      <td>0.679037</td>\n",
       "    </tr>\n",
       "  </tbody>\n",
       "</table>\n",
       "</div>"
      ],
      "text/plain": [
       "                  Classifiers  accuracy  precision    recall    Fscore\n",
       "0         Logistic_regression  0.776556   0.603192  0.776556  0.678982\n",
       "1               Random_forest  0.808778   0.788043  0.808778  0.783754\n",
       "2           Gradient_boosting  0.820667   0.804570  0.820667  0.799079\n",
       "3                    AdaBoost  0.815000   0.797732  0.815000  0.787467\n",
       "4           Voting_classifier  0.818667   0.802398  0.818667  0.794005\n",
       "5  Deep learning_Feed_forward  0.776667   0.603211  0.776667  0.679037"
      ]
     },
     "execution_count": 79,
     "metadata": {},
     "output_type": "execute_result"
    }
   ],
   "source": [
    "#appending all Scores\n",
    "accuracy_array=[]\n",
    "precision_array=[]\n",
    "recall_array=[]\n",
    "f1_array=[]\n",
    "classifier_name=[]\n",
    "\n",
    "accuracy_array.append(accuracy_regr)\n",
    "accuracy_array.append(accuracy_rf)\n",
    "accuracy_array.append(accuracy_gb)\n",
    "accuracy_array.append(accuracy_ab)\n",
    "accuracy_array.append(accuracy_vc)\n",
    "accuracy_array.append(accuracy_DL)\n",
    "\n",
    "\n",
    "precision_array.append(precision_regr)\n",
    "precision_array.append(precision_rf)\n",
    "precision_array.append(precision_gb)\n",
    "precision_array.append(precision_ab)\n",
    "precision_array.append(precision_vc)\n",
    "precision_array.append(precision_DL)\n",
    "\n",
    "\n",
    "recall_array.append(recall_regr)\n",
    "recall_array.append(recall_rf)\n",
    "recall_array.append(recall_gb)\n",
    "recall_array.append(recall_ab)\n",
    "recall_array.append(recall_vc)\n",
    "recall_array.append(recall_DL)\n",
    "\n",
    "\n",
    "f1_array.append(f1_regr)\n",
    "f1_array.append(f1_rf)\n",
    "f1_array.append(f1_gb)\n",
    "f1_array.append(f1_ab)\n",
    "f1_array.append(f1_vc)\n",
    "f1_array.append(F1_DL)\n",
    "\n",
    "\n",
    "classifier_name.append('Logistic_regression')\n",
    "classifier_name.append('Random_forest')\n",
    "classifier_name.append('Gradient_boosting')\n",
    "classifier_name.append('AdaBoost')\n",
    "classifier_name.append('Voting_classifier')\n",
    "classifier_name.append('Deep learning_Feed_forward')\n",
    "\n",
    "\n",
    "performance={'Classifiers':classifier_name, 'accuracy':accuracy_array, 'precision':precision_array,'recall':recall_array,'Fscore':f1_array}\n",
    "\n",
    "All_scores = pd.DataFrame(performance)\n",
    "All_scores\n",
    "\n"
   ]
  },
  {
   "cell_type": "markdown",
   "metadata": {},
   "source": [
    "### Rearrange the data to visualize the performance of classifiers"
   ]
  },
  {
   "cell_type": "code",
   "execution_count": 80,
   "metadata": {},
   "outputs": [
    {
     "data": {
      "text/html": [
       "<div>\n",
       "<style scoped>\n",
       "    .dataframe tbody tr th:only-of-type {\n",
       "        vertical-align: middle;\n",
       "    }\n",
       "\n",
       "    .dataframe tbody tr th {\n",
       "        vertical-align: top;\n",
       "    }\n",
       "\n",
       "    .dataframe thead th {\n",
       "        text-align: right;\n",
       "    }\n",
       "</style>\n",
       "<table border=\"1\" class=\"dataframe\">\n",
       "  <thead>\n",
       "    <tr style=\"text-align: right;\">\n",
       "      <th></th>\n",
       "      <th>Classifiers</th>\n",
       "      <th>Performances</th>\n",
       "      <th>Values</th>\n",
       "    </tr>\n",
       "  </thead>\n",
       "  <tbody>\n",
       "    <tr>\n",
       "      <th>0</th>\n",
       "      <td>Logistic_regression</td>\n",
       "      <td>accuracy</td>\n",
       "      <td>0.776556</td>\n",
       "    </tr>\n",
       "    <tr>\n",
       "      <th>1</th>\n",
       "      <td>Random_forest</td>\n",
       "      <td>accuracy</td>\n",
       "      <td>0.808778</td>\n",
       "    </tr>\n",
       "    <tr>\n",
       "      <th>2</th>\n",
       "      <td>Gradient_boosting</td>\n",
       "      <td>accuracy</td>\n",
       "      <td>0.820667</td>\n",
       "    </tr>\n",
       "    <tr>\n",
       "      <th>3</th>\n",
       "      <td>AdaBoost</td>\n",
       "      <td>accuracy</td>\n",
       "      <td>0.815000</td>\n",
       "    </tr>\n",
       "    <tr>\n",
       "      <th>4</th>\n",
       "      <td>Voting_classifier</td>\n",
       "      <td>accuracy</td>\n",
       "      <td>0.818667</td>\n",
       "    </tr>\n",
       "    <tr>\n",
       "      <th>5</th>\n",
       "      <td>Deep learning_Feed_forward</td>\n",
       "      <td>accuracy</td>\n",
       "      <td>0.776667</td>\n",
       "    </tr>\n",
       "    <tr>\n",
       "      <th>6</th>\n",
       "      <td>Logistic_regression</td>\n",
       "      <td>precision</td>\n",
       "      <td>0.603192</td>\n",
       "    </tr>\n",
       "    <tr>\n",
       "      <th>7</th>\n",
       "      <td>Random_forest</td>\n",
       "      <td>precision</td>\n",
       "      <td>0.788043</td>\n",
       "    </tr>\n",
       "    <tr>\n",
       "      <th>8</th>\n",
       "      <td>Gradient_boosting</td>\n",
       "      <td>precision</td>\n",
       "      <td>0.804570</td>\n",
       "    </tr>\n",
       "    <tr>\n",
       "      <th>9</th>\n",
       "      <td>AdaBoost</td>\n",
       "      <td>precision</td>\n",
       "      <td>0.797732</td>\n",
       "    </tr>\n",
       "    <tr>\n",
       "      <th>10</th>\n",
       "      <td>Voting_classifier</td>\n",
       "      <td>precision</td>\n",
       "      <td>0.802398</td>\n",
       "    </tr>\n",
       "    <tr>\n",
       "      <th>11</th>\n",
       "      <td>Deep learning_Feed_forward</td>\n",
       "      <td>precision</td>\n",
       "      <td>0.603211</td>\n",
       "    </tr>\n",
       "    <tr>\n",
       "      <th>12</th>\n",
       "      <td>Logistic_regression</td>\n",
       "      <td>recall</td>\n",
       "      <td>0.776556</td>\n",
       "    </tr>\n",
       "    <tr>\n",
       "      <th>13</th>\n",
       "      <td>Random_forest</td>\n",
       "      <td>recall</td>\n",
       "      <td>0.808778</td>\n",
       "    </tr>\n",
       "    <tr>\n",
       "      <th>14</th>\n",
       "      <td>Gradient_boosting</td>\n",
       "      <td>recall</td>\n",
       "      <td>0.820667</td>\n",
       "    </tr>\n",
       "    <tr>\n",
       "      <th>15</th>\n",
       "      <td>AdaBoost</td>\n",
       "      <td>recall</td>\n",
       "      <td>0.815000</td>\n",
       "    </tr>\n",
       "    <tr>\n",
       "      <th>16</th>\n",
       "      <td>Voting_classifier</td>\n",
       "      <td>recall</td>\n",
       "      <td>0.818667</td>\n",
       "    </tr>\n",
       "    <tr>\n",
       "      <th>17</th>\n",
       "      <td>Deep learning_Feed_forward</td>\n",
       "      <td>recall</td>\n",
       "      <td>0.776667</td>\n",
       "    </tr>\n",
       "    <tr>\n",
       "      <th>18</th>\n",
       "      <td>Logistic_regression</td>\n",
       "      <td>Fscore</td>\n",
       "      <td>0.678982</td>\n",
       "    </tr>\n",
       "    <tr>\n",
       "      <th>19</th>\n",
       "      <td>Random_forest</td>\n",
       "      <td>Fscore</td>\n",
       "      <td>0.783754</td>\n",
       "    </tr>\n",
       "    <tr>\n",
       "      <th>20</th>\n",
       "      <td>Gradient_boosting</td>\n",
       "      <td>Fscore</td>\n",
       "      <td>0.799079</td>\n",
       "    </tr>\n",
       "    <tr>\n",
       "      <th>21</th>\n",
       "      <td>AdaBoost</td>\n",
       "      <td>Fscore</td>\n",
       "      <td>0.787467</td>\n",
       "    </tr>\n",
       "    <tr>\n",
       "      <th>22</th>\n",
       "      <td>Voting_classifier</td>\n",
       "      <td>Fscore</td>\n",
       "      <td>0.794005</td>\n",
       "    </tr>\n",
       "    <tr>\n",
       "      <th>23</th>\n",
       "      <td>Deep learning_Feed_forward</td>\n",
       "      <td>Fscore</td>\n",
       "      <td>0.679037</td>\n",
       "    </tr>\n",
       "  </tbody>\n",
       "</table>\n",
       "</div>"
      ],
      "text/plain": [
       "                   Classifiers Performances    Values\n",
       "0          Logistic_regression     accuracy  0.776556\n",
       "1                Random_forest     accuracy  0.808778\n",
       "2            Gradient_boosting     accuracy  0.820667\n",
       "3                     AdaBoost     accuracy  0.815000\n",
       "4            Voting_classifier     accuracy  0.818667\n",
       "5   Deep learning_Feed_forward     accuracy  0.776667\n",
       "6          Logistic_regression    precision  0.603192\n",
       "7                Random_forest    precision  0.788043\n",
       "8            Gradient_boosting    precision  0.804570\n",
       "9                     AdaBoost    precision  0.797732\n",
       "10           Voting_classifier    precision  0.802398\n",
       "11  Deep learning_Feed_forward    precision  0.603211\n",
       "12         Logistic_regression       recall  0.776556\n",
       "13               Random_forest       recall  0.808778\n",
       "14           Gradient_boosting       recall  0.820667\n",
       "15                    AdaBoost       recall  0.815000\n",
       "16           Voting_classifier       recall  0.818667\n",
       "17  Deep learning_Feed_forward       recall  0.776667\n",
       "18         Logistic_regression       Fscore  0.678982\n",
       "19               Random_forest       Fscore  0.783754\n",
       "20           Gradient_boosting       Fscore  0.799079\n",
       "21                    AdaBoost       Fscore  0.787467\n",
       "22           Voting_classifier       Fscore  0.794005\n",
       "23  Deep learning_Feed_forward       Fscore  0.679037"
      ]
     },
     "execution_count": 80,
     "metadata": {},
     "output_type": "execute_result"
    }
   ],
   "source": [
    "\n",
    "All_scores = pd.melt(All_scores, id_vars=\"Classifiers\", var_name=\"Performances\", value_name=\"Values\")\n",
    "All_scores"
   ]
  },
  {
   "cell_type": "code",
   "execution_count": 82,
   "metadata": {
    "scrolled": true
   },
   "outputs": [
    {
     "data": {
      "text/plain": [
       "<seaborn.axisgrid.FacetGrid at 0x28184cf8>"
      ]
     },
     "execution_count": 82,
     "metadata": {},
     "output_type": "execute_result"
    },
    {
     "data": {
      "text/plain": [
       "<Figure size 1800x360 with 0 Axes>"
      ]
     },
     "metadata": {},
     "output_type": "display_data"
    },
    {
     "data": {
      "image/png": "[encoded data removed]",
      "text/plain": [
       "<Figure size 539.5x360 with 1 Axes>"
      ]
     },
     "metadata": {
      "needs_background": "light"
     },
     "output_type": "display_data"
    }
   ],
   "source": [
    "plt.figure(figsize=(25, 5))\n",
    "\n",
    "#sb.catplot(x='Classifiers', y='Values', hue='Performances', data=All_scores, kind='bar')\n",
    "sb.catplot(x='Performances', y='Values', hue='Classifiers', data=All_scores, kind='bar')\n"
   ]
  },
  {
   "cell_type": "markdown",
   "metadata": {},
   "source": [
    "### Refine the classifiers -- GradientBoost, AdaBoost, and Random forest\n",
    "\n",
    "This is done by performing performing Grid search, cross-validation"
   ]
  },
  {
   "cell_type": "code",
   "execution_count": 38,
   "metadata": {},
   "outputs": [],
   "source": [
    "from sklearn.metrics import classification_report\n",
    "from sklearn.metrics import make_scorer\n",
    "from sklearn.metrics import fbeta_score\n",
    "from sklearn.ensemble import RandomForestClassifier\n",
    "from sklearn.ensemble import AdaBoostClassifier\n",
    "from sklearn.model_selection import learning_curve, GridSearchCV\n",
    "from sklearn.calibration import CalibratedClassifierCV\n",
    "import time\n",
    "from sklearn.model_selection import cross_val_score\n",
    "import warnings\n"
   ]
  },
  {
   "cell_type": "markdown",
   "metadata": {},
   "source": [
    "### For AdaBoost"
   ]
  },
  {
   "cell_type": "code",
   "execution_count": 39,
   "metadata": {},
   "outputs": [
    {
     "name": "stdout",
     "output_type": "stream",
     "text": [
      "Best parameters for Adaboost: {'n_estimators': 25}\n"
     ]
    }
   ],
   "source": [
    "parameters_ada ={'n_estimators' :[15,25,50],\n",
    "            }\n",
    "\n",
    "AdaBoost = GridSearchCV(AdaBoostClassifier(random_state=10), parameters_ada,cv=10,scoring='accuracy')\n",
    "AdaBoost.fit(X_train, y_train)\n",
    "print(\"Best parameters for Adaboost:\",AdaBoost.best_params_)"
   ]
  },
  {
   "cell_type": "markdown",
   "metadata": {},
   "source": [
    "### For GradientBoost"
   ]
  },
  {
   "cell_type": "code",
   "execution_count": 40,
   "metadata": {},
   "outputs": [
    {
     "name": "stdout",
     "output_type": "stream",
     "text": [
      "Best parameters for GradeintBoosting: {'min_samples_split': 3, 'n_estimators': 50}\n"
     ]
    }
   ],
   "source": [
    "parameters_boost ={'n_estimators' :[15,25,50],\n",
    "             'min_samples_split' :[3,10,15]\n",
    "}\n",
    "\n",
    "Gradient_Boost = GridSearchCV(GradientBoostingClassifier(random_state=10), cv=10, param_grid=parameters_boost, scoring='accuracy')\n",
    "Gradient_Boost.fit(X_train,y_train)\n",
    "print(\"Best parameters for GradeintBoosting:\",Gradient_Boost.best_params_)\n"
   ]
  },
  {
   "cell_type": "markdown",
   "metadata": {},
   "source": [
    "### For Random forest"
   ]
  },
  {
   "cell_type": "code",
   "execution_count": 41,
   "metadata": {},
   "outputs": [
    {
     "name": "stdout",
     "output_type": "stream",
     "text": [
      "Best parameters for RandomForest: {'min_samples_split': 15, 'n_estimators': 50}\n"
     ]
    }
   ],
   "source": [
    "Random_Forest = GridSearchCV(RandomForestClassifier(random_state=10), cv=10, param_grid=parameters_boost,scoring='accuracy')\n",
    "Random_Forest.fit(X_train,y_train)\n",
    "print(\"Best parameters for RandomForest:\",Random_Forest.best_params_)"
   ]
  },
  {
   "cell_type": "markdown",
   "metadata": {},
   "source": [
    "### Voting classifier\n",
    "Use the above parameter values for Weighted voting CLassifier\n",
    "\n",
    "**First we have to calibrate our classsifers**\n",
    "\n",
    "**Isotonic claibration**\n"
   ]
  },
  {
   "cell_type": "code",
   "execution_count": 42,
   "metadata": {},
   "outputs": [],
   "source": [
    "Random_Forest1 = RandomForestClassifier(n_estimators=50,min_samples_split=15,random_state=10)\n",
    "AdaBoost1=AdaBoostClassifier(n_estimators=15,random_state=10)\n",
    "Gradient_Boost1=GradientBoostingClassifier(n_estimators=50,min_samples_split=15,random_state=10)\n",
    "\n",
    "clf_isotonic1 = CalibratedClassifierCV(Random_Forest1, method='isotonic',cv=10)\n",
    "clf_isotonic2 = CalibratedClassifierCV(AdaBoost1, method='isotonic',cv=10)\n",
    "clf_isotonic3 = CalibratedClassifierCV(Gradient_Boost1, method='isotonic',cv=10)"
   ]
  },
  {
   "cell_type": "markdown",
   "metadata": {},
   "source": [
    "### Input the istonic calibration to voting classifier with weights.\n"
   ]
  },
  {
   "cell_type": "code",
   "execution_count": 43,
   "metadata": {
    "scrolled": true
   },
   "outputs": [
    {
     "name": "stderr",
     "output_type": "stream",
     "text": [
      "C:\\Users\\pruthvi\\Anaconda3\\envs\\tfpy36gpu\\lib\\site-packages\\ipykernel_launcher.py:1: DeprecationWarning: time.clock has been deprecated in Python 3.3 and will be removed from Python 3.8: use time.perf_counter or time.process_time instead\n",
      "  \"\"\"Entry point for launching an IPython kernel.\n"
     ]
    },
    {
     "name": "stdout",
     "output_type": "stream",
     "text": [
      "accuracy_voting_classifier: 0.821\n",
      "Precision_voting_classifier: 0.8050231677793266\n",
      "Recall_voting_classifier: 0.821\n",
      "f1_score_voting_classifier: 0.7994850191061069\n",
      "Accuracy_voting_classifier_cross_validation: 0.8200360061484451\n",
      "Precision_voting_classifier_cross_validation: 0.7980868290452725\n",
      "Recall_voting_classifier_cross_validation: 0.8036634608944739\n",
      "F1_voting_classifier_cross_validation: 0.8200360061484451\n",
      "Total_time_taken_voting_classifier: 1701.387349872\n"
     ]
    },
    {
     "name": "stderr",
     "output_type": "stream",
     "text": [
      "C:\\Users\\pruthvi\\Anaconda3\\envs\\tfpy36gpu\\lib\\site-packages\\ipykernel_launcher.py:28: DeprecationWarning: time.clock has been deprecated in Python 3.3 and will be removed from Python 3.8: use time.perf_counter or time.process_time instead\n"
     ]
    }
   ],
   "source": [
    "t0 = time.clock()\n",
    "clfvc = VotingClassifier(estimators=[('rf',clf_isotonic1),('ab', clf_isotonic2),('gb',clf_isotonic3)],voting='soft',weights=[1,1,2])\n",
    "clfvc.fit(X_train,y_train)\n",
    "\n",
    "#Results of weighted voting classifer\n",
    "y_predvc = clfvc.predict(X_test)\n",
    "accuracy_vciso=accuracy_score(y_test, y_predvc)\n",
    "precision_vciso=precision_score(y_test, y_predvc,average='weighted')\n",
    "recall_vciso=recall_score(y_test, y_predvc,average='weighted')\n",
    "f1_vciso=f1_score(y_test,y_predvc,average='weighted')\n",
    "print(\"accuracy_voting_classifier:\", accuracy_vciso)\n",
    "print(\"Precision_voting_classifier:\", precision_vciso)\n",
    "print(\"Recall_voting_classifier:\", recall_vciso)\n",
    "print('f1_score_voting_classifier:',f1_vciso)\n",
    "\n",
    "#FINAL EVALUATION USING Stratified 10-fold CV on VC\n",
    "\n",
    "scores_accuracy_VC = cross_val_score(clfvc, Credit.drop('default payment next month',axis=1), Credit['default payment next month'],cv=10)\n",
    "scores_f1_VC = cross_val_score(clfvc, Credit.drop('default payment next month',axis=1), Credit['default payment next month'],cv=10,scoring='f1_weighted')\n",
    "scores_precision_VC = cross_val_score(clfvc, Credit.drop('default payment next month',axis=1), Credit['default payment next month'],cv=10,scoring='precision_weighted')\n",
    "scores_recall_VC = cross_val_score(clfvc, Credit.drop('default payment next month',axis=1), Credit['default payment next month'],cv=10,scoring='recall_weighted')\n",
    "\n",
    "#cross validated final results of tuned voting classifier\n",
    "print(\"Accuracy_voting_classifier_cross_validation:\",scores_accuracy_VC.mean())\n",
    "print(\"Precision_voting_classifier_cross_validation:\",scores_f1_VC.mean())\n",
    "print(\"Recall_voting_classifier_cross_validation:\",scores_precision_VC.mean())\n",
    "print(\"F1_voting_classifier_cross_validation:\",scores_recall_VC.mean())\n",
    "print('Total_time_taken_voting_classifier:',time.clock() - t0)\n"
   ]
  },
  {
   "cell_type": "markdown",
   "metadata": {},
   "source": [
    "### Gradient Boost"
   ]
  },
  {
   "cell_type": "code",
   "execution_count": 44,
   "metadata": {},
   "outputs": [
    {
     "name": "stderr",
     "output_type": "stream",
     "text": [
      "C:\\Users\\pruthvi\\Anaconda3\\envs\\tfpy36gpu\\lib\\site-packages\\ipykernel_launcher.py:2: DeprecationWarning: time.clock has been deprecated in Python 3.3 and will be removed from Python 3.8: use time.perf_counter or time.process_time instead\n",
      "  \n"
     ]
    },
    {
     "name": "stdout",
     "output_type": "stream",
     "text": [
      "accuracy_Gradient_Boosting: 0.8232222222222222\n",
      "Precision_Gradient_Boosting: 0.8081559797770027\n",
      "Recall_Gradient_Boosting: 0.8232222222222222\n",
      "f1_score_Gradient_Boosting: 0.8016552900001364\n",
      "Accuracy_Gradient_Boosting_cross_validation: 0.8177021728409821\n",
      "Precision_Gradient_Boosting_cross_validation: 0.795703508113329\n",
      "Recall_Gradient_Boosting_cross_validation: 0.8000053899632753\n",
      "F1_Gradient_Boosting_cross_validation: 0.8177021728409821\n",
      "Training_time_Gradient_Boosting: 58.725546298000154\n"
     ]
    },
    {
     "name": "stderr",
     "output_type": "stream",
     "text": [
      "C:\\Users\\pruthvi\\Anaconda3\\envs\\tfpy36gpu\\lib\\site-packages\\ipykernel_launcher.py:29: DeprecationWarning: time.clock has been deprecated in Python 3.3 and will be removed from Python 3.8: use time.perf_counter or time.process_time instead\n"
     ]
    }
   ],
   "source": [
    "#Training just the Gradient Boost(clfvc3) with tuned parameters from above\n",
    "t1 = time.clock()\n",
    "Gradient_Boost1.fit(X_train,y_train)\n",
    "\n",
    "#results of Tuned Gradient Boosting classifer\n",
    "y_predgb2 = Gradient_Boost1.predict(X_test)\n",
    "accuracy_gb2=accuracy_score(y_test, y_predgb2)\n",
    "precision_gb2=precision_score(y_test, y_predgb2,average='weighted')\n",
    "recall_gb2=recall_score(y_test, y_predgb2,average='weighted')\n",
    "f1_gb2=f1_score(y_test,y_predgb2,average='weighted')\n",
    "\n",
    "print(\"accuracy_Gradient_Boosting:\", accuracy_gb2)\n",
    "print(\"Precision_Gradient_Boosting:\", precision_gb2)\n",
    "print(\"Recall_Gradient_Boosting:\", recall_gb2)\n",
    "print('f1_score_Gradient_Boosting:',f1_gb2)\n",
    "\n",
    "#FINAL EVALUATION USING Stratified 10-fold CV on GB\n",
    "\n",
    "scores_accuracy = cross_val_score(Gradient_Boost1, Credit.drop('default payment next month',axis=1), Credit['default payment next month'],cv=10)\n",
    "scores_f1 = cross_val_score(Gradient_Boost1, Credit.drop('default payment next month',axis=1), Credit['default payment next month'],cv=10,scoring='f1_weighted')\n",
    "scores_precision = cross_val_score(Gradient_Boost1, Credit.drop('default payment next month',axis=1), Credit['default payment next month'],cv=10,scoring='precision_weighted')\n",
    "scores_recall = cross_val_score(Gradient_Boost1, Credit.drop('default payment next month',axis=1), Credit['default payment next month'],cv=10,scoring='recall_weighted')\n",
    "\n",
    "#cross validated final results of tuned Gradient Boosting\n",
    "print(\"Accuracy_Gradient_Boosting_cross_validation:\",scores_accuracy.mean())\n",
    "print(\"Precision_Gradient_Boosting_cross_validation:\",scores_f1.mean())\n",
    "print(\"Recall_Gradient_Boosting_cross_validation:\",scores_precision.mean())\n",
    "print(\"F1_Gradient_Boosting_cross_validation:\",scores_recall.mean())\n",
    "print('Training_time_Gradient_Boosting:',time.clock() - t1)\n",
    "\n"
   ]
  },
  {
   "cell_type": "markdown",
   "metadata": {},
   "source": [
    "### Logistic regression"
   ]
  },
  {
   "cell_type": "code",
   "execution_count": 45,
   "metadata": {},
   "outputs": [
    {
     "name": "stdout",
     "output_type": "stream",
     "text": [
      "Accuracy_Logistic_regression_cross_validation: 0.7788000247851878\n",
      "Precision_Logistic_regression_cross_validation: 0.6286699190718786\n",
      "Recall_Logistic_regression_cross_validation: 0.7788000247851878\n",
      "F1_Logistic_regression_cross_validation: 0.6820164488434587\n",
      "Training_time_Logistic_regression: 10.609026060999895\n"
     ]
    }
   ],
   "source": [
    "#Crossvalidate log regression \n",
    "warnings.filterwarnings(\"ignore\")\n",
    "t1 = time.clock()\n",
    "\n",
    "scores_f1_log = cross_val_score(LogisticRegression(C=0.8,random_state=10), Credit.drop('default payment next month',axis=1), Credit['default payment next month'],cv=10,scoring='f1_weighted')\n",
    "scores_accuracy_log = cross_val_score(LogisticRegression(C=0.8,random_state=10), Credit.drop('default payment next month',axis=1), Credit['default payment next month'],cv=10) \n",
    "scores_precision_log = cross_val_score(LogisticRegression(C=0.8,random_state=10), Credit.drop('default payment next month',axis=1), Credit['default payment next month'],cv=10,scoring='precision_weighted')\n",
    "scores_recall_log = cross_val_score(LogisticRegression(C=0.8,random_state=10), Credit.drop('default payment next month',axis=1), Credit['default payment next month'],cv=10,scoring='recall_weighted')\n",
    "\n",
    "print(\"Accuracy_Logistic_regression_cross_validation:\",scores_accuracy_log.mean())\n",
    "print(\"Precision_Logistic_regression_cross_validation:\",scores_precision_log.mean())\n",
    "print(\"Recall_Logistic_regression_cross_validation:\",scores_recall_log.mean())\n",
    "print(\"F1_Logistic_regression_cross_validation:\",scores_f1_log.mean())\n",
    "print('Training_time_Logistic_regression:',time.clock() - t1)\n"
   ]
  },
  {
   "cell_type": "markdown",
   "metadata": {},
   "source": [
    "### Append all scores of cross validation for comparison"
   ]
  },
  {
   "cell_type": "code",
   "execution_count": 85,
   "metadata": {},
   "outputs": [
    {
     "data": {
      "text/html": [
       "<div>\n",
       "<style scoped>\n",
       "    .dataframe tbody tr th:only-of-type {\n",
       "        vertical-align: middle;\n",
       "    }\n",
       "\n",
       "    .dataframe tbody tr th {\n",
       "        vertical-align: top;\n",
       "    }\n",
       "\n",
       "    .dataframe thead th {\n",
       "        text-align: right;\n",
       "    }\n",
       "</style>\n",
       "<table border=\"1\" class=\"dataframe\">\n",
       "  <thead>\n",
       "    <tr style=\"text-align: right;\">\n",
       "      <th></th>\n",
       "      <th>Classifiers</th>\n",
       "      <th>accuracy</th>\n",
       "      <th>precision</th>\n",
       "      <th>recall</th>\n",
       "      <th>Fscore</th>\n",
       "    </tr>\n",
       "  </thead>\n",
       "  <tbody>\n",
       "    <tr>\n",
       "      <th>0</th>\n",
       "      <td>Voting_classifier</td>\n",
       "      <td>0.820036</td>\n",
       "      <td>0.803663</td>\n",
       "      <td>0.820036</td>\n",
       "      <td>0.798087</td>\n",
       "    </tr>\n",
       "    <tr>\n",
       "      <th>1</th>\n",
       "      <td>Gradient_boosting</td>\n",
       "      <td>0.817702</td>\n",
       "      <td>0.800005</td>\n",
       "      <td>0.817702</td>\n",
       "      <td>0.795704</td>\n",
       "    </tr>\n",
       "    <tr>\n",
       "      <th>2</th>\n",
       "      <td>Logistic_regression</td>\n",
       "      <td>0.778800</td>\n",
       "      <td>0.628670</td>\n",
       "      <td>0.778800</td>\n",
       "      <td>0.682016</td>\n",
       "    </tr>\n",
       "  </tbody>\n",
       "</table>\n",
       "</div>"
      ],
      "text/plain": [
       "           Classifiers  accuracy  precision    recall    Fscore\n",
       "0    Voting_classifier  0.820036   0.803663  0.820036  0.798087\n",
       "1    Gradient_boosting  0.817702   0.800005  0.817702  0.795704\n",
       "2  Logistic_regression  0.778800   0.628670  0.778800  0.682016"
      ]
     },
     "execution_count": 85,
     "metadata": {},
     "output_type": "execute_result"
    }
   ],
   "source": [
    "#appending all Scores\n",
    "accuracy_cross_validation=[]\n",
    "precision_cross_validation=[]\n",
    "recall_cross_validation=[]\n",
    "f1_cross_validation=[]\n",
    "classifier_name_cross_validation=[]\n",
    "\n",
    "accuracy_cross_validation.append(scores_accuracy_VC.mean())\n",
    "accuracy_cross_validation.append(scores_accuracy.mean())\n",
    "accuracy_cross_validation.append(scores_accuracy_log.mean())\n",
    "\n",
    "\n",
    "precision_cross_validation.append(scores_precision_VC.mean())\n",
    "precision_cross_validation.append(scores_precision.mean())\n",
    "precision_cross_validation.append(scores_precision_log.mean())\n",
    "\n",
    "\n",
    "recall_cross_validation.append(scores_recall_VC.mean())\n",
    "recall_cross_validation.append(scores_recall.mean())\n",
    "recall_cross_validation.append(scores_recall_log.mean())\n",
    "\n",
    "\n",
    "f1_cross_validation.append(scores_f1_VC.mean())\n",
    "f1_cross_validation.append(scores_f1.mean())\n",
    "f1_cross_validation.append(scores_f1_log.mean())\n",
    "\n",
    "\n",
    "classifier_name_cross_validation.append('Voting_classifier')\n",
    "classifier_name_cross_validation.append('Gradient_boosting')\n",
    "classifier_name_cross_validation.append('Logistic_regression')\n",
    "\n",
    "performance_cross_validation={'Classifiers':classifier_name_cross_validation, 'accuracy':accuracy_cross_validation, 'precision':precision_cross_validation,'recall':recall_cross_validation,'Fscore':f1_cross_validation}\n",
    "\n",
    "All_scores_performance_cross_validation = pd.DataFrame(performance_cross_validation)\n",
    "All_scores_performance_cross_validation"
   ]
  },
  {
   "cell_type": "code",
   "execution_count": 86,
   "metadata": {},
   "outputs": [
    {
     "data": {
      "text/html": [
       "<div>\n",
       "<style scoped>\n",
       "    .dataframe tbody tr th:only-of-type {\n",
       "        vertical-align: middle;\n",
       "    }\n",
       "\n",
       "    .dataframe tbody tr th {\n",
       "        vertical-align: top;\n",
       "    }\n",
       "\n",
       "    .dataframe thead th {\n",
       "        text-align: right;\n",
       "    }\n",
       "</style>\n",
       "<table border=\"1\" class=\"dataframe\">\n",
       "  <thead>\n",
       "    <tr style=\"text-align: right;\">\n",
       "      <th></th>\n",
       "      <th>Classifiers</th>\n",
       "      <th>Performances</th>\n",
       "      <th>Values</th>\n",
       "    </tr>\n",
       "  </thead>\n",
       "  <tbody>\n",
       "    <tr>\n",
       "      <th>0</th>\n",
       "      <td>Voting_classifier</td>\n",
       "      <td>accuracy</td>\n",
       "      <td>0.820036</td>\n",
       "    </tr>\n",
       "    <tr>\n",
       "      <th>1</th>\n",
       "      <td>Gradient_boosting</td>\n",
       "      <td>accuracy</td>\n",
       "      <td>0.817702</td>\n",
       "    </tr>\n",
       "    <tr>\n",
       "      <th>2</th>\n",
       "      <td>Logistic_regression</td>\n",
       "      <td>accuracy</td>\n",
       "      <td>0.778800</td>\n",
       "    </tr>\n",
       "    <tr>\n",
       "      <th>3</th>\n",
       "      <td>Voting_classifier</td>\n",
       "      <td>precision</td>\n",
       "      <td>0.803663</td>\n",
       "    </tr>\n",
       "    <tr>\n",
       "      <th>4</th>\n",
       "      <td>Gradient_boosting</td>\n",
       "      <td>precision</td>\n",
       "      <td>0.800005</td>\n",
       "    </tr>\n",
       "    <tr>\n",
       "      <th>5</th>\n",
       "      <td>Logistic_regression</td>\n",
       "      <td>precision</td>\n",
       "      <td>0.628670</td>\n",
       "    </tr>\n",
       "    <tr>\n",
       "      <th>6</th>\n",
       "      <td>Voting_classifier</td>\n",
       "      <td>recall</td>\n",
       "      <td>0.820036</td>\n",
       "    </tr>\n",
       "    <tr>\n",
       "      <th>7</th>\n",
       "      <td>Gradient_boosting</td>\n",
       "      <td>recall</td>\n",
       "      <td>0.817702</td>\n",
       "    </tr>\n",
       "    <tr>\n",
       "      <th>8</th>\n",
       "      <td>Logistic_regression</td>\n",
       "      <td>recall</td>\n",
       "      <td>0.778800</td>\n",
       "    </tr>\n",
       "    <tr>\n",
       "      <th>9</th>\n",
       "      <td>Voting_classifier</td>\n",
       "      <td>Fscore</td>\n",
       "      <td>0.798087</td>\n",
       "    </tr>\n",
       "    <tr>\n",
       "      <th>10</th>\n",
       "      <td>Gradient_boosting</td>\n",
       "      <td>Fscore</td>\n",
       "      <td>0.795704</td>\n",
       "    </tr>\n",
       "    <tr>\n",
       "      <th>11</th>\n",
       "      <td>Logistic_regression</td>\n",
       "      <td>Fscore</td>\n",
       "      <td>0.682016</td>\n",
       "    </tr>\n",
       "  </tbody>\n",
       "</table>\n",
       "</div>"
      ],
      "text/plain": [
       "            Classifiers Performances    Values\n",
       "0     Voting_classifier     accuracy  0.820036\n",
       "1     Gradient_boosting     accuracy  0.817702\n",
       "2   Logistic_regression     accuracy  0.778800\n",
       "3     Voting_classifier    precision  0.803663\n",
       "4     Gradient_boosting    precision  0.800005\n",
       "5   Logistic_regression    precision  0.628670\n",
       "6     Voting_classifier       recall  0.820036\n",
       "7     Gradient_boosting       recall  0.817702\n",
       "8   Logistic_regression       recall  0.778800\n",
       "9     Voting_classifier       Fscore  0.798087\n",
       "10    Gradient_boosting       Fscore  0.795704\n",
       "11  Logistic_regression       Fscore  0.682016"
      ]
     },
     "execution_count": 86,
     "metadata": {},
     "output_type": "execute_result"
    }
   ],
   "source": [
    "All_scores_performance_cross_validation = pd.melt(All_scores_performance_cross_validation, id_vars=\"Classifiers\", var_name=\"Performances\", value_name=\"Values\")\n",
    "All_scores_performance_cross_validation"
   ]
  },
  {
   "cell_type": "code",
   "execution_count": 87,
   "metadata": {},
   "outputs": [
    {
     "data": {
      "text/plain": [
       "<seaborn.axisgrid.FacetGrid at 0x2826b400>"
      ]
     },
     "execution_count": 87,
     "metadata": {},
     "output_type": "execute_result"
    },
    {
     "data": {
      "text/plain": [
       "<Figure size 1800x360 with 0 Axes>"
      ]
     },
     "metadata": {},
     "output_type": "display_data"
    },
    {
     "data": {
      "image/png": "[encoded data removed]",
      "text/plain": [
       "<Figure size 491.875x360 with 1 Axes>"
      ]
     },
     "metadata": {
      "needs_background": "light"
     },
     "output_type": "display_data"
    }
   ],
   "source": [
    "plt.figure(figsize=(25, 5))\n",
    "\n",
    "#sb.catplot(x='Classifiers', y='Values', hue='Performances', data=All_scores, kind='bar')\n",
    "sb.catplot(x='Performances', y='Values', hue='Classifiers', data=All_scores_performance_cross_validation, kind='bar')"
   ]
  },
  {
   "cell_type": "markdown",
   "metadata": {},
   "source": [
    "**Finally,the voting classfier (i.e. the ensemble of random forest, Gradient boosting and Adaboost) performed better than Gradient boosting and gold-standard logistic regression classifier**"
   ]
  }
 ],
 "metadata": {
  "kernelspec": {
   "display_name": "Python 3",
   "language": "python",
   "name": "python3"
  },
  "language_info": {
   "codemirror_mode": {
    "name": "ipython",
    "version": 3
   },
   "file_extension": ".py",
   "mimetype": "text/x-python",
   "name": "python",
   "nbconvert_exporter": "python",
   "pygments_lexer": "ipython3",
   "version": "3.7.2"
  }
 },
 "nbformat": 4,
 "nbformat_minor": 2
}
